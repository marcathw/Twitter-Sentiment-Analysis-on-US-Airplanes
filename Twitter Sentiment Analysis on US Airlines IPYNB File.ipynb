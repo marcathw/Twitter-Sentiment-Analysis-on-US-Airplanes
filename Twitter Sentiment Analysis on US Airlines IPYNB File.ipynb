{
 "cells": [
  {
   "cell_type": "markdown",
   "id": "0089f23a-ab1c-4adf-8621-675e208995d0",
   "metadata": {},
   "source": [
    "### **DATASET OVERVIEW**"
   ]
  },
  {
   "cell_type": "markdown",
   "id": "498c2afd-834f-4aab-b1e1-0c8e660e5e9e",
   "metadata": {},
   "source": [
    "Dataset source: [**Link**](https://www.kaggle.com/datasets/crowdflower/twitter-airline-sentiment/data)  \n",
    "A sentiment analysis job about the problems of each major U.S. airline. Twitter data was scraped from February of 2015 and contributors were asked to first classify positive, negative, and neutral tweets, followed by categorizing negative reasons (such as \"late flight\" or \"rude service\")."
   ]
  },
  {
   "cell_type": "markdown",
   "id": "045e9888-35d9-466a-885e-0fd6a9d057aa",
   "metadata": {
    "jp-MarkdownHeadingCollapsed": true
   },
   "source": [
    "### **IMPORT LIBRARIES**"
   ]
  },
  {
   "cell_type": "code",
   "execution_count": 126,
   "id": "f64b9609-1cdc-468f-8200-d6d896e50b86",
   "metadata": {},
   "outputs": [
    {
     "name": "stdout",
     "output_type": "stream",
     "text": [
      "Libraries imported successfully.\n"
     ]
    }
   ],
   "source": [
    "import pandas as pd\n",
    "import numpy as np\n",
    "import re\n",
    "import matplotlib.pyplot as plt\n",
    "import seaborn as sns\n",
    "\n",
    "import nltk\n",
    "from nltk.corpus import stopwords\n",
    "from nltk.tokenize import word_tokenize\n",
    "\n",
    "from imblearn.over_sampling import SMOTE\n",
    "from imblearn.under_sampling import RandomUnderSampler\n",
    "\n",
    "from sklearn.model_selection import train_test_split, GridSearchCV, StratifiedKFold\n",
    "from sklearn.metrics import accuracy_score, classification_report, confusion_matrix, accuracy_score, precision_score, recall_score, f1_score, ConfusionMatrixDisplay\n",
    "\n",
    "from sklearn.feature_extraction.text import CountVectorizer, TfidfVectorizer\n",
    "from sklearn.preprocessing import LabelEncoder\n",
    "from sklearn.ensemble import RandomForestClassifier\n",
    "\n",
    "from gensim.models import Word2Vec, FastText\n",
    "import gensim.downloader as api\n",
    "\n",
    "import warnings\n",
    "warnings.filterwarnings(\"ignore\")\n",
    "\n",
    "print(\"Libraries imported successfully.\")"
   ]
  },
  {
   "cell_type": "code",
   "execution_count": 2,
   "id": "45f7b2b2-6bbd-4ac9-8b3d-dde7c101e451",
   "metadata": {},
   "outputs": [
    {
     "data": {
      "text/plain": [
       "True"
      ]
     },
     "execution_count": 2,
     "metadata": {},
     "output_type": "execute_result"
    }
   ],
   "source": [
    "nltk.download('punkt', quiet = True)\n",
    "nltk.download('stopwords', quiet = True)"
   ]
  },
  {
   "cell_type": "markdown",
   "id": "c5ed8600-26d1-4665-b2f6-b70fde78b2e4",
   "metadata": {},
   "source": [
    "> Here, I've imported the neccessary libraries for the whole process of reading data to performing sentiment analysis."
   ]
  },
  {
   "cell_type": "markdown",
   "id": "6fdf2088-090d-40c0-bd7f-1e28b004c23f",
   "metadata": {
    "jp-MarkdownHeadingCollapsed": true
   },
   "source": [
    "### **READ DATA**"
   ]
  },
  {
   "cell_type": "code",
   "execution_count": 3,
   "id": "11f0393a-ef51-40ae-bb56-9f8e70c3d6c3",
   "metadata": {},
   "outputs": [],
   "source": [
    "data = pd.read_csv(\"./Dataset/Tweets.csv\")"
   ]
  },
  {
   "cell_type": "code",
   "execution_count": 4,
   "id": "57159525-f811-47a8-b276-a1cb565b17ca",
   "metadata": {},
   "outputs": [
    {
     "data": {
      "text/html": [
       "<div>\n",
       "<style scoped>\n",
       "    .dataframe tbody tr th:only-of-type {\n",
       "        vertical-align: middle;\n",
       "    }\n",
       "\n",
       "    .dataframe tbody tr th {\n",
       "        vertical-align: top;\n",
       "    }\n",
       "\n",
       "    .dataframe thead th {\n",
       "        text-align: right;\n",
       "    }\n",
       "</style>\n",
       "<table border=\"1\" class=\"dataframe\">\n",
       "  <thead>\n",
       "    <tr style=\"text-align: right;\">\n",
       "      <th></th>\n",
       "      <th>tweet_id</th>\n",
       "      <th>airline_sentiment</th>\n",
       "      <th>airline_sentiment_confidence</th>\n",
       "      <th>negativereason</th>\n",
       "      <th>negativereason_confidence</th>\n",
       "      <th>airline</th>\n",
       "      <th>airline_sentiment_gold</th>\n",
       "      <th>name</th>\n",
       "      <th>negativereason_gold</th>\n",
       "      <th>retweet_count</th>\n",
       "      <th>text</th>\n",
       "      <th>tweet_coord</th>\n",
       "      <th>tweet_created</th>\n",
       "      <th>tweet_location</th>\n",
       "      <th>user_timezone</th>\n",
       "    </tr>\n",
       "  </thead>\n",
       "  <tbody>\n",
       "    <tr>\n",
       "      <th>0</th>\n",
       "      <td>570306133677760513</td>\n",
       "      <td>neutral</td>\n",
       "      <td>1.0000</td>\n",
       "      <td>NaN</td>\n",
       "      <td>NaN</td>\n",
       "      <td>Virgin America</td>\n",
       "      <td>NaN</td>\n",
       "      <td>cairdin</td>\n",
       "      <td>NaN</td>\n",
       "      <td>0</td>\n",
       "      <td>@VirginAmerica What @dhepburn said.</td>\n",
       "      <td>NaN</td>\n",
       "      <td>2015-02-24 11:35:52 -0800</td>\n",
       "      <td>NaN</td>\n",
       "      <td>Eastern Time (US &amp; Canada)</td>\n",
       "    </tr>\n",
       "    <tr>\n",
       "      <th>1</th>\n",
       "      <td>570301130888122368</td>\n",
       "      <td>positive</td>\n",
       "      <td>0.3486</td>\n",
       "      <td>NaN</td>\n",
       "      <td>0.0000</td>\n",
       "      <td>Virgin America</td>\n",
       "      <td>NaN</td>\n",
       "      <td>jnardino</td>\n",
       "      <td>NaN</td>\n",
       "      <td>0</td>\n",
       "      <td>@VirginAmerica plus you've added commercials t...</td>\n",
       "      <td>NaN</td>\n",
       "      <td>2015-02-24 11:15:59 -0800</td>\n",
       "      <td>NaN</td>\n",
       "      <td>Pacific Time (US &amp; Canada)</td>\n",
       "    </tr>\n",
       "    <tr>\n",
       "      <th>2</th>\n",
       "      <td>570301083672813571</td>\n",
       "      <td>neutral</td>\n",
       "      <td>0.6837</td>\n",
       "      <td>NaN</td>\n",
       "      <td>NaN</td>\n",
       "      <td>Virgin America</td>\n",
       "      <td>NaN</td>\n",
       "      <td>yvonnalynn</td>\n",
       "      <td>NaN</td>\n",
       "      <td>0</td>\n",
       "      <td>@VirginAmerica I didn't today... Must mean I n...</td>\n",
       "      <td>NaN</td>\n",
       "      <td>2015-02-24 11:15:48 -0800</td>\n",
       "      <td>Lets Play</td>\n",
       "      <td>Central Time (US &amp; Canada)</td>\n",
       "    </tr>\n",
       "    <tr>\n",
       "      <th>3</th>\n",
       "      <td>570301031407624196</td>\n",
       "      <td>negative</td>\n",
       "      <td>1.0000</td>\n",
       "      <td>Bad Flight</td>\n",
       "      <td>0.7033</td>\n",
       "      <td>Virgin America</td>\n",
       "      <td>NaN</td>\n",
       "      <td>jnardino</td>\n",
       "      <td>NaN</td>\n",
       "      <td>0</td>\n",
       "      <td>@VirginAmerica it's really aggressive to blast...</td>\n",
       "      <td>NaN</td>\n",
       "      <td>2015-02-24 11:15:36 -0800</td>\n",
       "      <td>NaN</td>\n",
       "      <td>Pacific Time (US &amp; Canada)</td>\n",
       "    </tr>\n",
       "    <tr>\n",
       "      <th>4</th>\n",
       "      <td>570300817074462722</td>\n",
       "      <td>negative</td>\n",
       "      <td>1.0000</td>\n",
       "      <td>Can't Tell</td>\n",
       "      <td>1.0000</td>\n",
       "      <td>Virgin America</td>\n",
       "      <td>NaN</td>\n",
       "      <td>jnardino</td>\n",
       "      <td>NaN</td>\n",
       "      <td>0</td>\n",
       "      <td>@VirginAmerica and it's a really big bad thing...</td>\n",
       "      <td>NaN</td>\n",
       "      <td>2015-02-24 11:14:45 -0800</td>\n",
       "      <td>NaN</td>\n",
       "      <td>Pacific Time (US &amp; Canada)</td>\n",
       "    </tr>\n",
       "  </tbody>\n",
       "</table>\n",
       "</div>"
      ],
      "text/plain": [
       "             tweet_id airline_sentiment  airline_sentiment_confidence  \\\n",
       "0  570306133677760513           neutral                        1.0000   \n",
       "1  570301130888122368          positive                        0.3486   \n",
       "2  570301083672813571           neutral                        0.6837   \n",
       "3  570301031407624196          negative                        1.0000   \n",
       "4  570300817074462722          negative                        1.0000   \n",
       "\n",
       "  negativereason  negativereason_confidence         airline  \\\n",
       "0            NaN                        NaN  Virgin America   \n",
       "1            NaN                     0.0000  Virgin America   \n",
       "2            NaN                        NaN  Virgin America   \n",
       "3     Bad Flight                     0.7033  Virgin America   \n",
       "4     Can't Tell                     1.0000  Virgin America   \n",
       "\n",
       "  airline_sentiment_gold        name negativereason_gold  retweet_count  \\\n",
       "0                    NaN     cairdin                 NaN              0   \n",
       "1                    NaN    jnardino                 NaN              0   \n",
       "2                    NaN  yvonnalynn                 NaN              0   \n",
       "3                    NaN    jnardino                 NaN              0   \n",
       "4                    NaN    jnardino                 NaN              0   \n",
       "\n",
       "                                                text tweet_coord  \\\n",
       "0                @VirginAmerica What @dhepburn said.         NaN   \n",
       "1  @VirginAmerica plus you've added commercials t...         NaN   \n",
       "2  @VirginAmerica I didn't today... Must mean I n...         NaN   \n",
       "3  @VirginAmerica it's really aggressive to blast...         NaN   \n",
       "4  @VirginAmerica and it's a really big bad thing...         NaN   \n",
       "\n",
       "               tweet_created tweet_location               user_timezone  \n",
       "0  2015-02-24 11:35:52 -0800            NaN  Eastern Time (US & Canada)  \n",
       "1  2015-02-24 11:15:59 -0800            NaN  Pacific Time (US & Canada)  \n",
       "2  2015-02-24 11:15:48 -0800      Lets Play  Central Time (US & Canada)  \n",
       "3  2015-02-24 11:15:36 -0800            NaN  Pacific Time (US & Canada)  \n",
       "4  2015-02-24 11:14:45 -0800            NaN  Pacific Time (US & Canada)  "
      ]
     },
     "execution_count": 4,
     "metadata": {},
     "output_type": "execute_result"
    }
   ],
   "source": [
    "data.head()"
   ]
  },
  {
   "cell_type": "markdown",
   "id": "06ad6700-a392-4ba7-b649-70fa67c1fda3",
   "metadata": {},
   "source": [
    "> Based on the output above, the data has been successfully read."
   ]
  },
  {
   "cell_type": "markdown",
   "id": "2744d82c-72eb-464d-a6c0-6fc2ef4da2b3",
   "metadata": {
    "jp-MarkdownHeadingCollapsed": true
   },
   "source": [
    "### **EDA AND PREPROCESSING**"
   ]
  },
  {
   "cell_type": "markdown",
   "id": "4b20001f-c5b3-4e2d-b0d3-1583d2464701",
   "metadata": {
    "jp-MarkdownHeadingCollapsed": true
   },
   "source": [
    "#### **DATA EXPLORATION**"
   ]
  },
  {
   "cell_type": "code",
   "execution_count": 5,
   "id": "a83431e4-1488-40ba-acc5-fb25c7a5d670",
   "metadata": {},
   "outputs": [
    {
     "name": "stdout",
     "output_type": "stream",
     "text": [
      "<class 'pandas.core.frame.DataFrame'>\n",
      "RangeIndex: 14640 entries, 0 to 14639\n",
      "Data columns (total 15 columns):\n",
      " #   Column                        Non-Null Count  Dtype  \n",
      "---  ------                        --------------  -----  \n",
      " 0   tweet_id                      14640 non-null  int64  \n",
      " 1   airline_sentiment             14640 non-null  object \n",
      " 2   airline_sentiment_confidence  14640 non-null  float64\n",
      " 3   negativereason                9178 non-null   object \n",
      " 4   negativereason_confidence     10522 non-null  float64\n",
      " 5   airline                       14640 non-null  object \n",
      " 6   airline_sentiment_gold        40 non-null     object \n",
      " 7   name                          14640 non-null  object \n",
      " 8   negativereason_gold           32 non-null     object \n",
      " 9   retweet_count                 14640 non-null  int64  \n",
      " 10  text                          14640 non-null  object \n",
      " 11  tweet_coord                   1019 non-null   object \n",
      " 12  tweet_created                 14640 non-null  object \n",
      " 13  tweet_location                9907 non-null   object \n",
      " 14  user_timezone                 9820 non-null   object \n",
      "dtypes: float64(2), int64(2), object(11)\n",
      "memory usage: 1.7+ MB\n"
     ]
    }
   ],
   "source": [
    "data.info()"
   ]
  },
  {
   "cell_type": "markdown",
   "id": "6e15591e-3e80-4541-8644-5b5dca127eea",
   "metadata": {},
   "source": [
    "> The data conssists of 14640 observations and 15 columns.  \n",
    "> However, since I'm aiming to perform a sentiment analysis on the tweet, I'm keeping only the **text** section and the **airline_sentiment** (target).\n",
    "> The main reason is to avoid the model from capturing spurious correlations.  \n",
    "> For example, if I keep **retweet_count**, the model may miscalculate it with \"the more retweet the tweet have, the more positive the tweet is\", but in fact, people can retweet both positive and negative tweets."
   ]
  },
  {
   "cell_type": "code",
   "execution_count": 6,
   "id": "66679aa4-2d12-48e7-9ff5-845053866340",
   "metadata": {},
   "outputs": [],
   "source": [
    "data = data[[\"text\", \"airline_sentiment\"]]"
   ]
  },
  {
   "cell_type": "code",
   "execution_count": 7,
   "id": "8327bf39-c783-419c-8b6d-84a543c5bf27",
   "metadata": {},
   "outputs": [
    {
     "data": {
      "text/html": [
       "<div>\n",
       "<style scoped>\n",
       "    .dataframe tbody tr th:only-of-type {\n",
       "        vertical-align: middle;\n",
       "    }\n",
       "\n",
       "    .dataframe tbody tr th {\n",
       "        vertical-align: top;\n",
       "    }\n",
       "\n",
       "    .dataframe thead th {\n",
       "        text-align: right;\n",
       "    }\n",
       "</style>\n",
       "<table border=\"1\" class=\"dataframe\">\n",
       "  <thead>\n",
       "    <tr style=\"text-align: right;\">\n",
       "      <th></th>\n",
       "      <th>text</th>\n",
       "      <th>airline_sentiment</th>\n",
       "    </tr>\n",
       "  </thead>\n",
       "  <tbody>\n",
       "    <tr>\n",
       "      <th>0</th>\n",
       "      <td>@VirginAmerica What @dhepburn said.</td>\n",
       "      <td>neutral</td>\n",
       "    </tr>\n",
       "    <tr>\n",
       "      <th>1</th>\n",
       "      <td>@VirginAmerica plus you've added commercials t...</td>\n",
       "      <td>positive</td>\n",
       "    </tr>\n",
       "    <tr>\n",
       "      <th>2</th>\n",
       "      <td>@VirginAmerica I didn't today... Must mean I n...</td>\n",
       "      <td>neutral</td>\n",
       "    </tr>\n",
       "    <tr>\n",
       "      <th>3</th>\n",
       "      <td>@VirginAmerica it's really aggressive to blast...</td>\n",
       "      <td>negative</td>\n",
       "    </tr>\n",
       "    <tr>\n",
       "      <th>4</th>\n",
       "      <td>@VirginAmerica and it's a really big bad thing...</td>\n",
       "      <td>negative</td>\n",
       "    </tr>\n",
       "  </tbody>\n",
       "</table>\n",
       "</div>"
      ],
      "text/plain": [
       "                                                text airline_sentiment\n",
       "0                @VirginAmerica What @dhepburn said.           neutral\n",
       "1  @VirginAmerica plus you've added commercials t...          positive\n",
       "2  @VirginAmerica I didn't today... Must mean I n...           neutral\n",
       "3  @VirginAmerica it's really aggressive to blast...          negative\n",
       "4  @VirginAmerica and it's a really big bad thing...          negative"
      ]
     },
     "execution_count": 7,
     "metadata": {},
     "output_type": "execute_result"
    }
   ],
   "source": [
    "data.head()"
   ]
  },
  {
   "cell_type": "markdown",
   "id": "b9d9642e-33d2-45d7-ac51-10f452fbc68d",
   "metadata": {
    "jp-MarkdownHeadingCollapsed": true
   },
   "source": [
    "#### **DUPLICATES**"
   ]
  },
  {
   "cell_type": "code",
   "execution_count": 8,
   "id": "f272aae0-bacd-422e-b166-da06bbc6ffd4",
   "metadata": {},
   "outputs": [
    {
     "data": {
      "text/plain": [
       "188"
      ]
     },
     "execution_count": 8,
     "metadata": {},
     "output_type": "execute_result"
    }
   ],
   "source": [
    "data.duplicated().sum()"
   ]
  },
  {
   "cell_type": "markdown",
   "id": "89c1aaec-581d-4e0d-9073-cb7ab26a0261",
   "metadata": {},
   "source": [
    "> From the 14640 observations in the data, there are 188 duplicated entries, so I will be dropping them to ensure that the model does not become overly influenced by repeated samples, which could lead to overfitting rather than genuine generalization."
   ]
  },
  {
   "cell_type": "code",
   "execution_count": 9,
   "id": "f0c3ed2a-9017-462a-9887-87e2ffe3e5dc",
   "metadata": {},
   "outputs": [],
   "source": [
    "data = data.drop_duplicates().reset_index(drop=True)"
   ]
  },
  {
   "cell_type": "code",
   "execution_count": 10,
   "id": "e1d0bf67-f5e6-4031-bff7-06a8cf1d0dd1",
   "metadata": {},
   "outputs": [
    {
     "data": {
      "text/plain": [
       "0"
      ]
     },
     "execution_count": 10,
     "metadata": {},
     "output_type": "execute_result"
    }
   ],
   "source": [
    "data.duplicated().sum()"
   ]
  },
  {
   "cell_type": "markdown",
   "id": "a8d5a716-3297-4274-ab6b-b8448f7f3cb5",
   "metadata": {},
   "source": [
    "> After removing duplicate observations, I check for identical texts assigned to different sentiment labels, as such inconsistencies may confuse the model during training."
   ]
  },
  {
   "cell_type": "code",
   "execution_count": 11,
   "id": "08984e80-385e-4437-88ef-ffcfe46fdb2e",
   "metadata": {},
   "outputs": [
    {
     "data": {
      "text/plain": [
       "25"
      ]
     },
     "execution_count": 11,
     "metadata": {},
     "output_type": "execute_result"
    }
   ],
   "source": [
    "data[\"text\"].duplicated().sum()"
   ]
  },
  {
   "cell_type": "code",
   "execution_count": 12,
   "id": "2e591946-ec52-4557-b664-ab84ed4a9571",
   "metadata": {
    "scrolled": true
   },
   "outputs": [
    {
     "data": {
      "text/html": [
       "<div>\n",
       "<style scoped>\n",
       "    .dataframe tbody tr th:only-of-type {\n",
       "        vertical-align: middle;\n",
       "    }\n",
       "\n",
       "    .dataframe tbody tr th {\n",
       "        vertical-align: top;\n",
       "    }\n",
       "\n",
       "    .dataframe thead th {\n",
       "        text-align: right;\n",
       "    }\n",
       "</style>\n",
       "<table border=\"1\" class=\"dataframe\">\n",
       "  <thead>\n",
       "    <tr style=\"text-align: right;\">\n",
       "      <th></th>\n",
       "      <th>text</th>\n",
       "      <th>airline_sentiment</th>\n",
       "    </tr>\n",
       "  </thead>\n",
       "  <tbody>\n",
       "    <tr>\n",
       "      <th>12005</th>\n",
       "      <td>@AmericanAir - keeping AA up in the Air! My cr...</td>\n",
       "      <td>positive</td>\n",
       "    </tr>\n",
       "    <tr>\n",
       "      <th>11919</th>\n",
       "      <td>@AmericanAir - keeping AA up in the Air! My cr...</td>\n",
       "      <td>neutral</td>\n",
       "    </tr>\n",
       "    <tr>\n",
       "      <th>11926</th>\n",
       "      <td>@AmericanAir @Clarkey_19 we done it with 1 tru...</td>\n",
       "      <td>neutral</td>\n",
       "    </tr>\n",
       "    <tr>\n",
       "      <th>12006</th>\n",
       "      <td>@AmericanAir @Clarkey_19 we done it with 1 tru...</td>\n",
       "      <td>positive</td>\n",
       "    </tr>\n",
       "    <tr>\n",
       "      <th>12002</th>\n",
       "      <td>@AmericanAir @RobertDwyer AA doesnt charge any...</td>\n",
       "      <td>neutral</td>\n",
       "    </tr>\n",
       "    <tr>\n",
       "      <th>11896</th>\n",
       "      <td>@AmericanAir @RobertDwyer AA doesnt charge any...</td>\n",
       "      <td>positive</td>\n",
       "    </tr>\n",
       "    <tr>\n",
       "      <th>11997</th>\n",
       "      <td>@AmericanAir Believe me, I understand. Flight ...</td>\n",
       "      <td>negative</td>\n",
       "    </tr>\n",
       "    <tr>\n",
       "      <th>11843</th>\n",
       "      <td>@AmericanAir Believe me, I understand. Flight ...</td>\n",
       "      <td>positive</td>\n",
       "    </tr>\n",
       "    <tr>\n",
       "      <th>12000</th>\n",
       "      <td>@AmericanAir I don't think you should help him...</td>\n",
       "      <td>neutral</td>\n",
       "    </tr>\n",
       "    <tr>\n",
       "      <th>11876</th>\n",
       "      <td>@AmericanAir I don't think you should help him...</td>\n",
       "      <td>positive</td>\n",
       "    </tr>\n",
       "    <tr>\n",
       "      <th>11998</th>\n",
       "      <td>@AmericanAir I might look into that. My wife t...</td>\n",
       "      <td>neutral</td>\n",
       "    </tr>\n",
       "    <tr>\n",
       "      <th>11866</th>\n",
       "      <td>@AmericanAir I might look into that. My wife t...</td>\n",
       "      <td>positive</td>\n",
       "    </tr>\n",
       "    <tr>\n",
       "      <th>12013</th>\n",
       "      <td>@AmericanAir I was happy to purchase the upgra...</td>\n",
       "      <td>negative</td>\n",
       "    </tr>\n",
       "    <tr>\n",
       "      <th>11973</th>\n",
       "      <td>@AmericanAir I was happy to purchase the upgra...</td>\n",
       "      <td>positive</td>\n",
       "    </tr>\n",
       "    <tr>\n",
       "      <th>11944</th>\n",
       "      <td>@AmericanAir I'd like to apologize to the gate...</td>\n",
       "      <td>neutral</td>\n",
       "    </tr>\n",
       "    <tr>\n",
       "      <th>12007</th>\n",
       "      <td>@AmericanAir I'd like to apologize to the gate...</td>\n",
       "      <td>negative</td>\n",
       "    </tr>\n",
       "    <tr>\n",
       "      <th>12008</th>\n",
       "      <td>@AmericanAir None of the #LAX flights into #DF...</td>\n",
       "      <td>negative</td>\n",
       "    </tr>\n",
       "    <tr>\n",
       "      <th>11949</th>\n",
       "      <td>@AmericanAir None of the #LAX flights into #DF...</td>\n",
       "      <td>positive</td>\n",
       "    </tr>\n",
       "    <tr>\n",
       "      <th>12448</th>\n",
       "      <td>@AmericanAir Thank you</td>\n",
       "      <td>positive</td>\n",
       "    </tr>\n",
       "    <tr>\n",
       "      <th>12889</th>\n",
       "      <td>@AmericanAir Thank you</td>\n",
       "      <td>neutral</td>\n",
       "    </tr>\n",
       "    <tr>\n",
       "      <th>11867</th>\n",
       "      <td>@AmericanAir Thank you, you too!</td>\n",
       "      <td>neutral</td>\n",
       "    </tr>\n",
       "    <tr>\n",
       "      <th>11999</th>\n",
       "      <td>@AmericanAir Thank you, you too!</td>\n",
       "      <td>positive</td>\n",
       "    </tr>\n",
       "    <tr>\n",
       "      <th>11968</th>\n",
       "      <td>@AmericanAir Thanks so much!</td>\n",
       "      <td>neutral</td>\n",
       "    </tr>\n",
       "    <tr>\n",
       "      <th>12012</th>\n",
       "      <td>@AmericanAir Thanks so much!</td>\n",
       "      <td>positive</td>\n",
       "    </tr>\n",
       "    <tr>\n",
       "      <th>12001</th>\n",
       "      <td>@AmericanAir Trying desperately to get my boyf...</td>\n",
       "      <td>neutral</td>\n",
       "    </tr>\n",
       "    <tr>\n",
       "      <th>11884</th>\n",
       "      <td>@AmericanAir Trying desperately to get my boyf...</td>\n",
       "      <td>negative</td>\n",
       "    </tr>\n",
       "    <tr>\n",
       "      <th>11911</th>\n",
       "      <td>@AmericanAir Would love to DM you, but my Twit...</td>\n",
       "      <td>neutral</td>\n",
       "    </tr>\n",
       "    <tr>\n",
       "      <th>12003</th>\n",
       "      <td>@AmericanAir Would love to DM you, but my Twit...</td>\n",
       "      <td>negative</td>\n",
       "    </tr>\n",
       "    <tr>\n",
       "      <th>11918</th>\n",
       "      <td>@AmericanAir continues to win: I've never miss...</td>\n",
       "      <td>positive</td>\n",
       "    </tr>\n",
       "    <tr>\n",
       "      <th>12004</th>\n",
       "      <td>@AmericanAir continues to win: I've never miss...</td>\n",
       "      <td>negative</td>\n",
       "    </tr>\n",
       "    <tr>\n",
       "      <th>12014</th>\n",
       "      <td>@AmericanAir my flight to DFW from LIT on my w...</td>\n",
       "      <td>negative</td>\n",
       "    </tr>\n",
       "    <tr>\n",
       "      <th>11976</th>\n",
       "      <td>@AmericanAir my flight to DFW from LIT on my w...</td>\n",
       "      <td>neutral</td>\n",
       "    </tr>\n",
       "    <tr>\n",
       "      <th>12454</th>\n",
       "      <td>@AmericanAir thank you</td>\n",
       "      <td>positive</td>\n",
       "    </tr>\n",
       "    <tr>\n",
       "      <th>13161</th>\n",
       "      <td>@AmericanAir thank you</td>\n",
       "      <td>neutral</td>\n",
       "    </tr>\n",
       "    <tr>\n",
       "      <th>12010</th>\n",
       "      <td>@AmericanAir thanks for the info Is there a nu...</td>\n",
       "      <td>neutral</td>\n",
       "    </tr>\n",
       "    <tr>\n",
       "      <th>11960</th>\n",
       "      <td>@AmericanAir thanks for the info Is there a nu...</td>\n",
       "      <td>positive</td>\n",
       "    </tr>\n",
       "    <tr>\n",
       "      <th>11952</th>\n",
       "      <td>@AmericanAir thanks!</td>\n",
       "      <td>neutral</td>\n",
       "    </tr>\n",
       "    <tr>\n",
       "      <th>12009</th>\n",
       "      <td>@AmericanAir thanks!</td>\n",
       "      <td>positive</td>\n",
       "    </tr>\n",
       "    <tr>\n",
       "      <th>12011</th>\n",
       "      <td>@AmericanAir we are off to Kax premium.  Hopin...</td>\n",
       "      <td>positive</td>\n",
       "    </tr>\n",
       "    <tr>\n",
       "      <th>11961</th>\n",
       "      <td>@AmericanAir we are off to Kax premium.  Hopin...</td>\n",
       "      <td>neutral</td>\n",
       "    </tr>\n",
       "    <tr>\n",
       "      <th>5500</th>\n",
       "      <td>@SouthwestAir Thank you!</td>\n",
       "      <td>positive</td>\n",
       "    </tr>\n",
       "    <tr>\n",
       "      <th>4431</th>\n",
       "      <td>@SouthwestAir Thank you!</td>\n",
       "      <td>neutral</td>\n",
       "    </tr>\n",
       "    <tr>\n",
       "      <th>5843</th>\n",
       "      <td>@SouthwestAir yes please</td>\n",
       "      <td>neutral</td>\n",
       "    </tr>\n",
       "    <tr>\n",
       "      <th>4847</th>\n",
       "      <td>@SouthwestAir yes please</td>\n",
       "      <td>positive</td>\n",
       "    </tr>\n",
       "    <tr>\n",
       "      <th>10717</th>\n",
       "      <td>@USAirways thank you</td>\n",
       "      <td>positive</td>\n",
       "    </tr>\n",
       "    <tr>\n",
       "      <th>11535</th>\n",
       "      <td>@USAirways thank you</td>\n",
       "      <td>neutral</td>\n",
       "    </tr>\n",
       "    <tr>\n",
       "      <th>3322</th>\n",
       "      <td>@united Thank you.</td>\n",
       "      <td>positive</td>\n",
       "    </tr>\n",
       "    <tr>\n",
       "      <th>613</th>\n",
       "      <td>@united Thank you.</td>\n",
       "      <td>neutral</td>\n",
       "    </tr>\n",
       "    <tr>\n",
       "      <th>3554</th>\n",
       "      <td>@united thanks</td>\n",
       "      <td>neutral</td>\n",
       "    </tr>\n",
       "    <tr>\n",
       "      <th>503</th>\n",
       "      <td>@united thanks</td>\n",
       "      <td>positive</td>\n",
       "    </tr>\n",
       "  </tbody>\n",
       "</table>\n",
       "</div>"
      ],
      "text/plain": [
       "                                                    text airline_sentiment\n",
       "12005  @AmericanAir - keeping AA up in the Air! My cr...          positive\n",
       "11919  @AmericanAir - keeping AA up in the Air! My cr...           neutral\n",
       "11926  @AmericanAir @Clarkey_19 we done it with 1 tru...           neutral\n",
       "12006  @AmericanAir @Clarkey_19 we done it with 1 tru...          positive\n",
       "12002  @AmericanAir @RobertDwyer AA doesnt charge any...           neutral\n",
       "11896  @AmericanAir @RobertDwyer AA doesnt charge any...          positive\n",
       "11997  @AmericanAir Believe me, I understand. Flight ...          negative\n",
       "11843  @AmericanAir Believe me, I understand. Flight ...          positive\n",
       "12000  @AmericanAir I don't think you should help him...           neutral\n",
       "11876  @AmericanAir I don't think you should help him...          positive\n",
       "11998  @AmericanAir I might look into that. My wife t...           neutral\n",
       "11866  @AmericanAir I might look into that. My wife t...          positive\n",
       "12013  @AmericanAir I was happy to purchase the upgra...          negative\n",
       "11973  @AmericanAir I was happy to purchase the upgra...          positive\n",
       "11944  @AmericanAir I'd like to apologize to the gate...           neutral\n",
       "12007  @AmericanAir I'd like to apologize to the gate...          negative\n",
       "12008  @AmericanAir None of the #LAX flights into #DF...          negative\n",
       "11949  @AmericanAir None of the #LAX flights into #DF...          positive\n",
       "12448                             @AmericanAir Thank you          positive\n",
       "12889                             @AmericanAir Thank you           neutral\n",
       "11867                   @AmericanAir Thank you, you too!           neutral\n",
       "11999                   @AmericanAir Thank you, you too!          positive\n",
       "11968                       @AmericanAir Thanks so much!           neutral\n",
       "12012                       @AmericanAir Thanks so much!          positive\n",
       "12001  @AmericanAir Trying desperately to get my boyf...           neutral\n",
       "11884  @AmericanAir Trying desperately to get my boyf...          negative\n",
       "11911  @AmericanAir Would love to DM you, but my Twit...           neutral\n",
       "12003  @AmericanAir Would love to DM you, but my Twit...          negative\n",
       "11918  @AmericanAir continues to win: I've never miss...          positive\n",
       "12004  @AmericanAir continues to win: I've never miss...          negative\n",
       "12014  @AmericanAir my flight to DFW from LIT on my w...          negative\n",
       "11976  @AmericanAir my flight to DFW from LIT on my w...           neutral\n",
       "12454                             @AmericanAir thank you          positive\n",
       "13161                             @AmericanAir thank you           neutral\n",
       "12010  @AmericanAir thanks for the info Is there a nu...           neutral\n",
       "11960  @AmericanAir thanks for the info Is there a nu...          positive\n",
       "11952                               @AmericanAir thanks!           neutral\n",
       "12009                               @AmericanAir thanks!          positive\n",
       "12011  @AmericanAir we are off to Kax premium.  Hopin...          positive\n",
       "11961  @AmericanAir we are off to Kax premium.  Hopin...           neutral\n",
       "5500                            @SouthwestAir Thank you!          positive\n",
       "4431                            @SouthwestAir Thank you!           neutral\n",
       "5843                            @SouthwestAir yes please           neutral\n",
       "4847                            @SouthwestAir yes please          positive\n",
       "10717                               @USAirways thank you          positive\n",
       "11535                               @USAirways thank you           neutral\n",
       "3322                                  @united Thank you.          positive\n",
       "613                                   @united Thank you.           neutral\n",
       "3554                                      @united thanks           neutral\n",
       "503                                       @united thanks          positive"
      ]
     },
     "metadata": {},
     "output_type": "display_data"
    }
   ],
   "source": [
    "duplicates = data[data['text'].duplicated(keep = False)].sort_values('text')\n",
    "\n",
    "display(duplicates)"
   ]
  },
  {
   "cell_type": "code",
   "execution_count": 13,
   "id": "3ff1b20e-db32-455b-8efd-26c4c98558ce",
   "metadata": {},
   "outputs": [],
   "source": [
    "data = data.drop_duplicates(subset = 'text', keep = False)"
   ]
  },
  {
   "cell_type": "code",
   "execution_count": 14,
   "id": "02b4bab9-6070-44bc-929a-fa9901f3b30b",
   "metadata": {},
   "outputs": [
    {
     "data": {
      "text/plain": [
       "0"
      ]
     },
     "execution_count": 14,
     "metadata": {},
     "output_type": "execute_result"
    }
   ],
   "source": [
    "data[\"text\"].duplicated().sum()"
   ]
  },
  {
   "cell_type": "markdown",
   "id": "40327632-da11-409b-86c5-c7c0a4d0c161",
   "metadata": {},
   "source": [
    "> Here, I have removed all duplicates and identical texts with conflicting sentiment labels to ensure data consistency before proceeding to the next step."
   ]
  },
  {
   "cell_type": "markdown",
   "id": "ffa566d9-46be-4a8f-9152-366b1a0e1ef9",
   "metadata": {
    "jp-MarkdownHeadingCollapsed": true
   },
   "source": [
    "#### **CARDINALITY CHECK**"
   ]
  },
  {
   "cell_type": "code",
   "execution_count": 15,
   "id": "41e8fe2c-a8e9-4714-bc9f-8b35005a6629",
   "metadata": {},
   "outputs": [
    {
     "name": "stdout",
     "output_type": "stream",
     "text": [
      "<class 'pandas.core.frame.DataFrame'>\n",
      "Index: 14402 entries, 0 to 14451\n",
      "Data columns (total 2 columns):\n",
      " #   Column             Non-Null Count  Dtype \n",
      "---  ------             --------------  ----- \n",
      " 0   text               14402 non-null  object\n",
      " 1   airline_sentiment  14402 non-null  object\n",
      "dtypes: object(2)\n",
      "memory usage: 337.5+ KB\n"
     ]
    }
   ],
   "source": [
    "data.info()"
   ]
  },
  {
   "cell_type": "code",
   "execution_count": 16,
   "id": "a23270a7-b3ae-472a-8aee-3fcf855f1f37",
   "metadata": {},
   "outputs": [
    {
     "name": "stdout",
     "output_type": "stream",
     "text": [
      "Cardinality Check Result:\n"
     ]
    },
    {
     "data": {
      "text/html": [
       "<div>\n",
       "<style scoped>\n",
       "    .dataframe tbody tr th:only-of-type {\n",
       "        vertical-align: middle;\n",
       "    }\n",
       "\n",
       "    .dataframe tbody tr th {\n",
       "        vertical-align: top;\n",
       "    }\n",
       "\n",
       "    .dataframe thead th {\n",
       "        text-align: right;\n",
       "    }\n",
       "</style>\n",
       "<table border=\"1\" class=\"dataframe\">\n",
       "  <thead>\n",
       "    <tr style=\"text-align: right;\">\n",
       "      <th></th>\n",
       "      <th>column name</th>\n",
       "      <th>data type</th>\n",
       "      <th>unique values</th>\n",
       "    </tr>\n",
       "  </thead>\n",
       "  <tbody>\n",
       "    <tr>\n",
       "      <th>0</th>\n",
       "      <td>text</td>\n",
       "      <td>object</td>\n",
       "      <td>14402</td>\n",
       "    </tr>\n",
       "    <tr>\n",
       "      <th>1</th>\n",
       "      <td>airline_sentiment</td>\n",
       "      <td>object</td>\n",
       "      <td>3</td>\n",
       "    </tr>\n",
       "  </tbody>\n",
       "</table>\n",
       "</div>"
      ],
      "text/plain": [
       "         column name data type  unique values\n",
       "0               text    object          14402\n",
       "1  airline_sentiment    object              3"
      ]
     },
     "execution_count": 16,
     "metadata": {},
     "output_type": "execute_result"
    }
   ],
   "source": [
    "cardinal = pd.DataFrame({\n",
    "    \"column name\": data.columns.tolist(),\n",
    "    \"data type\": [data[c].dtype for c in data.columns],\n",
    "    \"unique values\": [data[c].nunique() for c in data.columns]\n",
    "})\n",
    "print(\"Cardinality Check Result:\")\n",
    "cardinal"
   ]
  },
  {
   "cell_type": "markdown",
   "id": "57a317c6-43b8-49fe-8802-63a3a1ab39de",
   "metadata": {},
   "source": [
    "> Here, I can infer that the texts inside the data are all unique with 3 different sentiments.  \n",
    "> This confirms that no redundant textual data remain, ensuring a clean and unbiased foundation for sentiment classification."
   ]
  },
  {
   "cell_type": "markdown",
   "id": "b8867561-725d-49e2-8100-cd50620eb76c",
   "metadata": {
    "jp-MarkdownHeadingCollapsed": true
   },
   "source": [
    "#### **MISSING VALUES**"
   ]
  },
  {
   "cell_type": "code",
   "execution_count": 17,
   "id": "28fa43a2-f0f1-4f67-a664-458fb25dec25",
   "metadata": {},
   "outputs": [
    {
     "data": {
      "text/plain": [
       "text                 0\n",
       "airline_sentiment    0\n",
       "dtype: int64"
      ]
     },
     "execution_count": 17,
     "metadata": {},
     "output_type": "execute_result"
    }
   ],
   "source": [
    "data.isnull().sum()"
   ]
  },
  {
   "cell_type": "markdown",
   "id": "d729d97b-0293-40af-966c-566e78ac3b44",
   "metadata": {},
   "source": [
    "> The data has no missing observations.  \n",
    "> Hence, further handling is unneccessary."
   ]
  },
  {
   "cell_type": "markdown",
   "id": "bfe7bcfd-52b6-4ed2-ab6b-55b55a1260ac",
   "metadata": {
    "jp-MarkdownHeadingCollapsed": true
   },
   "source": [
    "#### **DATA DISTRIBUTION**"
   ]
  },
  {
   "cell_type": "code",
   "execution_count": 18,
   "id": "9be5c281-f040-41df-a289-75f14d574e10",
   "metadata": {},
   "outputs": [
    {
     "name": "stdout",
     "output_type": "stream",
     "text": [
      "['neutral' 'positive' 'negative'] \n",
      "\n"
     ]
    }
   ],
   "source": [
    "print(data[\"airline_sentiment\"].unique(), \"\\n\")"
   ]
  },
  {
   "cell_type": "markdown",
   "id": "d49bc5e0-efef-4a05-9eec-44cfc2af1b20",
   "metadata": {},
   "source": [
    "> The data contains three sentiment classes: positive, neutral, and negative."
   ]
  },
  {
   "cell_type": "code",
   "execution_count": 19,
   "id": "6a855ec8-f254-4486-9691-7553dd5bb8f7",
   "metadata": {},
   "outputs": [
    {
     "name": "stdout",
     "output_type": "stream",
     "text": [
      "Train Shape: (11521, 2)\n",
      "Test Shape: (2881, 2)\n"
     ]
    }
   ],
   "source": [
    "train_data, test_data = train_test_split(data, test_size = 0.2, stratify = data[\"airline_sentiment\"], random_state = 42)\n",
    "print(f\"Train Shape: {train_data.shape}\")\n",
    "print(f\"Test Shape: {test_data.shape}\")"
   ]
  },
  {
   "cell_type": "markdown",
   "id": "7e97b408-b1ce-4e38-be45-3e7282b8bacc",
   "metadata": {},
   "source": [
    "> Here, I perform a train-test split to prevent data leakage."
   ]
  },
  {
   "cell_type": "code",
   "execution_count": 20,
   "id": "82eceee7-f096-4885-8065-eaf2cde11355",
   "metadata": {},
   "outputs": [
    {
     "data": {
      "text/plain": [
       "<Axes: xlabel='airline_sentiment', ylabel='count'>"
      ]
     },
     "execution_count": 20,
     "metadata": {},
     "output_type": "execute_result"
    },
    {
     "data": {
      "image/png": "[encoded data removed]",
      "text/plain": [
       "<Figure size 640x480 with 1 Axes>"
      ]
     },
     "metadata": {},
     "output_type": "display_data"
    }
   ],
   "source": [
    "sns.countplot(x = \"airline_sentiment\", data = train_data)"
   ]
  },
  {
   "cell_type": "markdown",
   "id": "34dd5637-7c5f-4aac-b910-cabf1cdbd00e",
   "metadata": {},
   "source": [
    "> Based on the sentiment distribution above, it can be inferred that the data is highly imbalanced, with negative sentiment samples being roughly three to four times more frequent than the positive and neutral ones.  \n",
    "> This imbalance may cause the model to favor the negative class.  \n",
    "> Therefore, one of the main objectives of this notebook is to compare model performance before and after applying imbalance handling techniques."
   ]
  },
  {
   "cell_type": "code",
   "execution_count": 21,
   "id": "19e66f58-d43c-4ea3-b04a-b4c0ae9209e7",
   "metadata": {},
   "outputs": [
    {
     "data": {
      "image/png": "[encoded data removed]",
      "text/plain": [
       "<Figure size 1000x600 with 1 Axes>"
      ]
     },
     "metadata": {},
     "output_type": "display_data"
    }
   ],
   "source": [
    "train_vis = train_data.copy()\n",
    "train_vis[\"word_count\"] = train_vis[\"text\"].apply(lambda x: len(str(x).split()))\n",
    "\n",
    "plt.figure(figsize = (10, 6))\n",
    "sns.histplot(train_vis[\"word_count\"], bins = 30, kde = True, color = \"skyblue\")\n",
    "\n",
    "plt.title(\"Wordcount Distribution\", fontsize = 14)\n",
    "plt.xlabel(\"Wordcount\")\n",
    "plt.ylabel(\"Frequency\")\n",
    "plt.show()"
   ]
  },
  {
   "cell_type": "markdown",
   "id": "987db500-970c-467e-bb36-410380f383b1",
   "metadata": {},
   "source": [
    "> Here, I plotted the word count distribution of the data.  \n",
    "> There are some entries with fewer than five words, and since one of them typically represents the airline's username, such samples may not be informative enough for the model to learn sentiment effectively."
   ]
  },
  {
   "cell_type": "code",
   "execution_count": 22,
   "id": "ea133159-8888-4b42-b3b0-9fee7d89d455",
   "metadata": {
    "scrolled": true
   },
   "outputs": [
    {
     "name": "stdout",
     "output_type": "stream",
     "text": [
      "Data with <5 words: 387\n"
     ]
    },
    {
     "data": {
      "text/html": [
       "<div>\n",
       "<style scoped>\n",
       "    .dataframe tbody tr th:only-of-type {\n",
       "        vertical-align: middle;\n",
       "    }\n",
       "\n",
       "    .dataframe tbody tr th {\n",
       "        vertical-align: top;\n",
       "    }\n",
       "\n",
       "    .dataframe thead th {\n",
       "        text-align: right;\n",
       "    }\n",
       "</style>\n",
       "<table border=\"1\" class=\"dataframe\">\n",
       "  <thead>\n",
       "    <tr style=\"text-align: right;\">\n",
       "      <th></th>\n",
       "      <th>text</th>\n",
       "      <th>word_count</th>\n",
       "    </tr>\n",
       "  </thead>\n",
       "  <tbody>\n",
       "    <tr>\n",
       "      <th>9692</th>\n",
       "      <td>@USAirways follow/dm please</td>\n",
       "      <td>3</td>\n",
       "    </tr>\n",
       "    <tr>\n",
       "      <th>7003</th>\n",
       "      <td>@JetBlue *fights air*</td>\n",
       "      <td>3</td>\n",
       "    </tr>\n",
       "    <tr>\n",
       "      <th>4809</th>\n",
       "      <td>@SouthwestAir yes, please #companionpass</td>\n",
       "      <td>4</td>\n",
       "    </tr>\n",
       "    <tr>\n",
       "      <th>12685</th>\n",
       "      <td>@AmericanAir amen!</td>\n",
       "      <td>2</td>\n",
       "    </tr>\n",
       "    <tr>\n",
       "      <th>2829</th>\n",
       "      <td>@united exactly</td>\n",
       "      <td>2</td>\n",
       "    </tr>\n",
       "    <tr>\n",
       "      <th>8535</th>\n",
       "      <td>@JetBlue Aw okay thanks</td>\n",
       "      <td>4</td>\n",
       "    </tr>\n",
       "    <tr>\n",
       "      <th>370</th>\n",
       "      <td>@VirginAmerica delayed to10.30!!</td>\n",
       "      <td>3</td>\n",
       "    </tr>\n",
       "    <tr>\n",
       "      <th>8270</th>\n",
       "      <td>@JetBlue Just sent it</td>\n",
       "      <td>4</td>\n",
       "    </tr>\n",
       "    <tr>\n",
       "      <th>5657</th>\n",
       "      <td>@SouthwestAir I would.</td>\n",
       "      <td>3</td>\n",
       "    </tr>\n",
       "    <tr>\n",
       "      <th>1081</th>\n",
       "      <td>@united Definitely will!</td>\n",
       "      <td>3</td>\n",
       "    </tr>\n",
       "    <tr>\n",
       "      <th>7102</th>\n",
       "      <td>@JetBlue sounds good!!!💙💙💙💙</td>\n",
       "      <td>3</td>\n",
       "    </tr>\n",
       "    <tr>\n",
       "      <th>5313</th>\n",
       "      <td>@SouthwestAir I DM'd you</td>\n",
       "      <td>4</td>\n",
       "    </tr>\n",
       "    <tr>\n",
       "      <th>5691</th>\n",
       "      <td>@SouthwestAir Jackpot!  #legroom http://t.co/Z...</td>\n",
       "      <td>4</td>\n",
       "    </tr>\n",
       "    <tr>\n",
       "      <th>9290</th>\n",
       "      <td>@USAirways ok thanks</td>\n",
       "      <td>3</td>\n",
       "    </tr>\n",
       "    <tr>\n",
       "      <th>1168</th>\n",
       "      <td>@united thank you!</td>\n",
       "      <td>3</td>\n",
       "    </tr>\n",
       "    <tr>\n",
       "      <th>11860</th>\n",
       "      <td>@AmericanAir thanks</td>\n",
       "      <td>2</td>\n",
       "    </tr>\n",
       "    <tr>\n",
       "      <th>2952</th>\n",
       "      <td>@united thnx!</td>\n",
       "      <td>2</td>\n",
       "    </tr>\n",
       "    <tr>\n",
       "      <th>8288</th>\n",
       "      <td>@JetBlue thanks</td>\n",
       "      <td>2</td>\n",
       "    </tr>\n",
       "    <tr>\n",
       "      <th>8881</th>\n",
       "      <td>@JetBlue Thank you!</td>\n",
       "      <td>3</td>\n",
       "    </tr>\n",
       "    <tr>\n",
       "      <th>3216</th>\n",
       "      <td>@united sent DM's</td>\n",
       "      <td>3</td>\n",
       "    </tr>\n",
       "  </tbody>\n",
       "</table>\n",
       "</div>"
      ],
      "text/plain": [
       "                                                    text  word_count\n",
       "9692                         @USAirways follow/dm please           3\n",
       "7003                               @JetBlue *fights air*           3\n",
       "4809            @SouthwestAir yes, please #companionpass           4\n",
       "12685                                 @AmericanAir amen!           2\n",
       "2829                                     @united exactly           2\n",
       "8535                             @JetBlue Aw okay thanks           4\n",
       "370                     @VirginAmerica delayed to10.30!!           3\n",
       "8270                               @JetBlue Just sent it           4\n",
       "5657                              @SouthwestAir I would.           3\n",
       "1081                            @united Definitely will!           3\n",
       "7102                         @JetBlue sounds good!!!💙💙💙💙           3\n",
       "5313                            @SouthwestAir I DM'd you           4\n",
       "5691   @SouthwestAir Jackpot!  #legroom http://t.co/Z...           4\n",
       "9290                                @USAirways ok thanks           3\n",
       "1168                                  @united thank you!           3\n",
       "11860                                @AmericanAir thanks           2\n",
       "2952                                       @united thnx!           2\n",
       "8288                                     @JetBlue thanks           2\n",
       "8881                                 @JetBlue Thank you!           3\n",
       "3216                                   @united sent DM's           3"
      ]
     },
     "metadata": {},
     "output_type": "display_data"
    }
   ],
   "source": [
    "short_sentences = train_vis[train_vis[\"word_count\"] < 5]\n",
    "\n",
    "print(f\"Data with <5 words: {len(short_sentences)}\")\n",
    "display(short_sentences[[\"text\", \"word_count\"]].head(20))"
   ]
  },
  {
   "cell_type": "markdown",
   "id": "68f7284f-32dc-4f40-a393-48aa9326b740",
   "metadata": {},
   "source": [
    "> Here, I displayed several samples with fewer than five words.  \n",
    "> As expected, these short texts do not convey any meaningful sentiment toward the airline, so I plan to remove them during preprocessing."
   ]
  },
  {
   "cell_type": "markdown",
   "id": "45634214-c929-4c77-9725-19c15e803749",
   "metadata": {
    "jp-MarkdownHeadingCollapsed": true
   },
   "source": [
    "#### **PREPROCESSING**"
   ]
  },
  {
   "cell_type": "code",
   "execution_count": 23,
   "id": "0f40d06a-02f6-41f3-bd47-89f82eb9b7f6",
   "metadata": {},
   "outputs": [
    {
     "name": "stdout",
     "output_type": "stream",
     "text": [
      "1. @JetBlue ruining vacations left and right. Who would have thought an airline can Cancelled Flight tickets without telling the buyer\n",
      "\n",
      "2. @AmericanAir  upon entering plane to 2 @USAirways stewardesses: \"can I have some water?\" \"no we don't do that. please take your seat\"\n",
      "\n",
      "3. @united Thank you for that. Am I able to claim any interim expenses or is the cost of the stuff up on me?\n",
      "\n",
      "4. @AmericanAir Thanks! Bleh, disconnected! Let's try this again!!\n",
      "\n",
      "5. @JetBlue 1472, FLL to LGA. This is getting old. 4th @JetBlue flight in 2.5 weeks, 4th significant delay.\n",
      "\n"
     ]
    }
   ],
   "source": [
    "for i, text in enumerate(train_data[\"text\"].iloc[0:5], 1):\n",
    "    print(f\"{i}. {text}\\n\")"
   ]
  },
  {
   "cell_type": "code",
   "execution_count": 24,
   "id": "5ff2f5c6-3442-4f4c-8dcf-b023186b798a",
   "metadata": {},
   "outputs": [
    {
     "name": "stdout",
     "output_type": "stream",
     "text": [
      "1. @united assistance with what, the attitude of your staff no matter which airport we are at?\n",
      "\n",
      "2. @SouthwestAir your gate agent re-routed an impossible itinerary and we had to find a new airline to get us home. Super bummed about this\n",
      "\n",
      "3. @SouthwestAir I did but it only shows one flight one way. When I try to go to the home page and book roundtrip there's nothing available :(\n",
      "\n",
      "4. @VirginAmerica flight 404 delayed 2 hours in LA due to mechanical problems. Handle like pros but you could have tossed us a free drink.\n",
      "\n",
      "5. @SouthwestAir what does relay concerns really mean &amp; how/why do u keep letting people on flights with bags larger than u state are allowabl?\n",
      "\n"
     ]
    }
   ],
   "source": [
    "for i, text in enumerate(train_data[\"text\"].iloc[-6:-1], 1):\n",
    "    print(f\"{i}. {text}\\n\")"
   ]
  },
  {
   "cell_type": "markdown",
   "id": "fe7f2d2d-34af-453c-b2fe-e3b8a3a90c20",
   "metadata": {},
   "source": [
    "> Here, I displayed several samples from the data to identify what kind of cleaning is required.  \n",
    "> From these examples, I decided to remove the @Airline mentions, as they do not convey any sentiment information, and to remove punctuations since the objective is sentiment analysis rather than syntactic or question-based understanding."
   ]
  },
  {
   "cell_type": "code",
   "execution_count": 25,
   "id": "8f5f7543-0593-428b-95d5-ed7470d63c4d",
   "metadata": {},
   "outputs": [],
   "source": [
    "stop_words = set(stopwords.words('english'))\n",
    "\n",
    "def preprocess_text(text):\n",
    "    s = str(text).lower()\n",
    "    s = re.sub(r'@\\w+', \" \", s)\n",
    "    s = re.sub(r'[^a-z\\s]+', \" \", s)\n",
    "    s = re.sub(r'\\s+', \" \", s).strip()\n",
    "    tokens = word_tokenize(s)\n",
    "    tokens = [w for w in tokens if w not in stop_words and len(w) > 1]\n",
    "\n",
    "    return \" \".join(tokens)"
   ]
  },
  {
   "cell_type": "code",
   "execution_count": 26,
   "id": "0b9b3875-ec0c-4cfb-929b-f741e20f31cc",
   "metadata": {},
   "outputs": [],
   "source": [
    "train_data_1 = train_data.copy()\n",
    "train_data_1[\"text\"] = train_data_1[\"text\"].apply(preprocess_text)\n",
    "\n",
    "train_data_1 = train_data_1[train_data_1[\"text\"].str.split().str.len() >= 4]"
   ]
  },
  {
   "cell_type": "code",
   "execution_count": 27,
   "id": "2622a2a8-4467-4ea8-8c41-b73ed16f77cb",
   "metadata": {},
   "outputs": [],
   "source": [
    "test_data_1 = test_data.copy()\n",
    "test_data_1[\"text\"] = test_data_1[\"text\"].apply(preprocess_text)"
   ]
  },
  {
   "cell_type": "code",
   "execution_count": 28,
   "id": "b1fde730-482a-4469-903c-00ba673e1d03",
   "metadata": {},
   "outputs": [
    {
     "data": {
      "text/html": [
       "<div>\n",
       "<style scoped>\n",
       "    .dataframe tbody tr th:only-of-type {\n",
       "        vertical-align: middle;\n",
       "    }\n",
       "\n",
       "    .dataframe tbody tr th {\n",
       "        vertical-align: top;\n",
       "    }\n",
       "\n",
       "    .dataframe thead th {\n",
       "        text-align: right;\n",
       "    }\n",
       "</style>\n",
       "<table border=\"1\" class=\"dataframe\">\n",
       "  <thead>\n",
       "    <tr style=\"text-align: right;\">\n",
       "      <th></th>\n",
       "      <th>text</th>\n",
       "      <th>airline_sentiment</th>\n",
       "    </tr>\n",
       "  </thead>\n",
       "  <tbody>\n",
       "    <tr>\n",
       "      <th>8356</th>\n",
       "      <td>ruining vacations left right would thought air...</td>\n",
       "      <td>negative</td>\n",
       "    </tr>\n",
       "    <tr>\n",
       "      <th>13186</th>\n",
       "      <td>upon entering plane stewardesses water please ...</td>\n",
       "      <td>negative</td>\n",
       "    </tr>\n",
       "    <tr>\n",
       "      <th>560</th>\n",
       "      <td>thank able claim interim expenses cost stuff</td>\n",
       "      <td>positive</td>\n",
       "    </tr>\n",
       "    <tr>\n",
       "      <th>12392</th>\n",
       "      <td>thanks bleh disconnected let try</td>\n",
       "      <td>negative</td>\n",
       "    </tr>\n",
       "    <tr>\n",
       "      <th>8438</th>\n",
       "      <td>fll lga getting old th flight weeks th signifi...</td>\n",
       "      <td>negative</td>\n",
       "    </tr>\n",
       "  </tbody>\n",
       "</table>\n",
       "</div>"
      ],
      "text/plain": [
       "                                                    text airline_sentiment\n",
       "8356   ruining vacations left right would thought air...          negative\n",
       "13186  upon entering plane stewardesses water please ...          negative\n",
       "560         thank able claim interim expenses cost stuff          positive\n",
       "12392                   thanks bleh disconnected let try          negative\n",
       "8438   fll lga getting old th flight weeks th signifi...          negative"
      ]
     },
     "execution_count": 28,
     "metadata": {},
     "output_type": "execute_result"
    }
   ],
   "source": [
    "train_data_1.head()"
   ]
  },
  {
   "cell_type": "code",
   "execution_count": 29,
   "id": "ac29aa1a-eedc-4d8c-b5f9-8e13991c8450",
   "metadata": {},
   "outputs": [],
   "source": [
    "def preprocess_text_2(text):\n",
    "    s = str(text).lower()\n",
    "    s = re.sub(r'@\\w+', \" \", s)\n",
    "    s = re.sub(r'[^a-z\\s]+', \" \", s)\n",
    "    s = re.sub(r'\\s+', \" \", s).strip()\n",
    "    return s"
   ]
  },
  {
   "cell_type": "markdown",
   "id": "b52770b0-bac0-4e90-9175-01d3d98ec5e5",
   "metadata": {},
   "source": [
    "> This second preprocessing function is used for Word2Vec, GloVe, and FastText models, as these embeddings can leverage stopwords to better capture sentence structure and contextual meaning."
   ]
  },
  {
   "cell_type": "code",
   "execution_count": 30,
   "id": "f96f1585-94f6-47ee-afc2-2f9b423ddad7",
   "metadata": {},
   "outputs": [],
   "source": [
    "train_data_2 = train_data.copy()\n",
    "train_data_2[\"text\"] = train_data_2[\"text\"].apply(preprocess_text_2)\n",
    "\n",
    "train_data_2 = train_data_2[train_data_2[\"text\"].str.split().str.len() >= 4]"
   ]
  },
  {
   "cell_type": "code",
   "execution_count": 31,
   "id": "0ef73145-6a7e-4b6f-90fd-45350f3440a3",
   "metadata": {},
   "outputs": [],
   "source": [
    "test_data_2 = test_data.copy()\n",
    "test_data_2[\"text\"] = test_data_2[\"text\"].apply(preprocess_text)"
   ]
  },
  {
   "cell_type": "code",
   "execution_count": 32,
   "id": "0b1c161b-67ff-468f-be8d-205952316516",
   "metadata": {},
   "outputs": [
    {
     "data": {
      "text/html": [
       "<div>\n",
       "<style scoped>\n",
       "    .dataframe tbody tr th:only-of-type {\n",
       "        vertical-align: middle;\n",
       "    }\n",
       "\n",
       "    .dataframe tbody tr th {\n",
       "        vertical-align: top;\n",
       "    }\n",
       "\n",
       "    .dataframe thead th {\n",
       "        text-align: right;\n",
       "    }\n",
       "</style>\n",
       "<table border=\"1\" class=\"dataframe\">\n",
       "  <thead>\n",
       "    <tr style=\"text-align: right;\">\n",
       "      <th></th>\n",
       "      <th>text</th>\n",
       "      <th>airline_sentiment</th>\n",
       "    </tr>\n",
       "  </thead>\n",
       "  <tbody>\n",
       "    <tr>\n",
       "      <th>8356</th>\n",
       "      <td>ruining vacations left and right who would hav...</td>\n",
       "      <td>negative</td>\n",
       "    </tr>\n",
       "    <tr>\n",
       "      <th>13186</th>\n",
       "      <td>upon entering plane to stewardesses can i have...</td>\n",
       "      <td>negative</td>\n",
       "    </tr>\n",
       "    <tr>\n",
       "      <th>560</th>\n",
       "      <td>thank you for that am i able to claim any inte...</td>\n",
       "      <td>positive</td>\n",
       "    </tr>\n",
       "    <tr>\n",
       "      <th>12392</th>\n",
       "      <td>thanks bleh disconnected let s try this again</td>\n",
       "      <td>negative</td>\n",
       "    </tr>\n",
       "    <tr>\n",
       "      <th>8438</th>\n",
       "      <td>fll to lga this is getting old th flight in we...</td>\n",
       "      <td>negative</td>\n",
       "    </tr>\n",
       "  </tbody>\n",
       "</table>\n",
       "</div>"
      ],
      "text/plain": [
       "                                                    text airline_sentiment\n",
       "8356   ruining vacations left and right who would hav...          negative\n",
       "13186  upon entering plane to stewardesses can i have...          negative\n",
       "560    thank you for that am i able to claim any inte...          positive\n",
       "12392      thanks bleh disconnected let s try this again          negative\n",
       "8438   fll to lga this is getting old th flight in we...          negative"
      ]
     },
     "execution_count": 32,
     "metadata": {},
     "output_type": "execute_result"
    }
   ],
   "source": [
    "train_data_2.head()"
   ]
  },
  {
   "cell_type": "markdown",
   "id": "1ac1fdcc-5f59-42a7-8652-a057e9b87fec",
   "metadata": {},
   "source": [
    "> The data has been fully preprocessed and is now ready for vectorization and model training."
   ]
  },
  {
   "cell_type": "markdown",
   "id": "8d67dac5-7a5e-46fd-988f-377f38668dd1",
   "metadata": {
    "jp-MarkdownHeadingCollapsed": true
   },
   "source": [
    "### **TEXT REPRESENTATION**"
   ]
  },
  {
   "cell_type": "code",
   "execution_count": 33,
   "id": "27238914-f8f2-4e16-87b8-e80e4d6940f1",
   "metadata": {},
   "outputs": [],
   "source": [
    "X_train_1 = train_data_1[\"text\"]\n",
    "y_train_1 = train_data_1[\"airline_sentiment\"]\n",
    "X_train_2 = train_data_2[\"text\"].apply(lambda x: x.split())\n",
    "y_train_2 = train_data_2[\"airline_sentiment\"]"
   ]
  },
  {
   "cell_type": "code",
   "execution_count": 34,
   "id": "1a33d2e1-220f-49d7-a2a0-19a5ef258864",
   "metadata": {},
   "outputs": [
    {
     "data": {
      "text/plain": [
       "8356     ruining vacations left right would thought air...\n",
       "13186    upon entering plane stewardesses water please ...\n",
       "560           thank able claim interim expenses cost stuff\n",
       "12392                     thanks bleh disconnected let try\n",
       "8438     fll lga getting old th flight weeks th signifi...\n",
       "Name: text, dtype: object"
      ]
     },
     "execution_count": 34,
     "metadata": {},
     "output_type": "execute_result"
    }
   ],
   "source": [
    "X_train_1.head()"
   ]
  },
  {
   "cell_type": "code",
   "execution_count": 35,
   "id": "3d84c1f9-22d0-48e5-80f1-2c145eb5e223",
   "metadata": {},
   "outputs": [
    {
     "data": {
      "text/plain": [
       "8356     [ruining, vacations, left, and, right, who, wo...\n",
       "13186    [upon, entering, plane, to, stewardesses, can,...\n",
       "560      [thank, you, for, that, am, i, able, to, claim...\n",
       "12392    [thanks, bleh, disconnected, let, s, try, this...\n",
       "8438     [fll, to, lga, this, is, getting, old, th, fli...\n",
       "Name: text, dtype: object"
      ]
     },
     "execution_count": 35,
     "metadata": {},
     "output_type": "execute_result"
    }
   ],
   "source": [
    "X_train_2.head()"
   ]
  },
  {
   "cell_type": "code",
   "execution_count": 36,
   "id": "7bba2a14-d693-40c2-9300-32f7bb81d2f4",
   "metadata": {},
   "outputs": [],
   "source": [
    "X_test_1 = test_data_1[\"text\"]\n",
    "y_test_1 = test_data_1[\"airline_sentiment\"]\n",
    "X_test_2 = test_data_2[\"text\"].apply(lambda x: x.split())\n",
    "y_test_2 = test_data_2[\"airline_sentiment\"]"
   ]
  },
  {
   "cell_type": "markdown",
   "id": "43e8a270-63f2-4702-b53b-454d1365eade",
   "metadata": {},
   "source": [
    "> Here, I split the data into X (**text**) and y (the target variable, **airline_sentiment**)."
   ]
  },
  {
   "cell_type": "markdown",
   "id": "ba77e3d0-25ea-4381-94fe-3eb25be75edd",
   "metadata": {
    "jp-MarkdownHeadingCollapsed": true
   },
   "source": [
    "#### **BAG OF WORDS (COUNTVECTORIZER)**"
   ]
  },
  {
   "cell_type": "markdown",
   "id": "ed7fabfe-0750-4863-bada-6dcc375e7ca7",
   "metadata": {},
   "source": [
    "> The first vectorization method I used was the classic Bag of Words approach with CountVectorizer, which represents each tweet as a vector based on the frequency of its words."
   ]
  },
  {
   "cell_type": "code",
   "execution_count": 37,
   "id": "a4a73c17-46d3-4565-b547-d8c3dd63c7bf",
   "metadata": {},
   "outputs": [
    {
     "name": "stdout",
     "output_type": "stream",
     "text": [
      "Count of uniques or vocabularies:  7000\n",
      "Example vocabularies:  ['ruining', 'vacations', 'left', 'right', 'would', 'thought', 'airline', 'cancelled', 'flight', 'tickets']\n",
      "Example vector: [0 0 0 0 0 0 0 0 0 0]\n"
     ]
    }
   ],
   "source": [
    "bow = CountVectorizer(max_features = 7000)\n",
    "X_train_BOW = bow.fit_transform(X_train_1)\n",
    "X_test_BOW = bow.transform(X_test_1)\n",
    "print(\"Count of uniques or vocabularies: \", len(bow.vocabulary_))\n",
    "print(\"Example vocabularies: \", list(bow.vocabulary_.keys())[:10])\n",
    "print(\"Example vector:\", X_train_BOW[0].toarray()[0][:10])"
   ]
  },
  {
   "cell_type": "markdown",
   "id": "cbd597d4-757c-4fce-8c65-2707a00cd4d0",
   "metadata": {
    "jp-MarkdownHeadingCollapsed": true
   },
   "source": [
    "#### **TF-IDF**"
   ]
  },
  {
   "cell_type": "markdown",
   "id": "42574d20-c571-4a9c-8ec2-6902aeaf9567",
   "metadata": {},
   "source": [
    "> The second vectorization method I applied was the TF-IDF Vectorizer, as it can better highlight important words by giving higher weights to terms that are frequent in a tweet but rare across the data."
   ]
  },
  {
   "cell_type": "code",
   "execution_count": 38,
   "id": "ace0c9b6-92e2-4da2-a931-00ca85a7160a",
   "metadata": {},
   "outputs": [
    {
     "name": "stdout",
     "output_type": "stream",
     "text": [
      "Shape:  (10338, 7000)\n",
      "Count of uniques or vocabularies:  7000\n",
      "Example vocabularies:  ['ruining', 'vacations', 'left', 'right', 'would', 'thought', 'airline', 'cancelled', 'flight', 'tickets']\n",
      "Example vector: [0. 0. 0. 0. 0. 0. 0. 0. 0. 0.]\n"
     ]
    }
   ],
   "source": [
    "tfidf = TfidfVectorizer(max_features = 7000, ngram_range=(1,2))\n",
    "X_train_TFIDF = tfidf.fit_transform(X_train_1)\n",
    "X_test_TFIDF = tfidf.transform(X_test_1)\n",
    "print(\"Shape: \", X_train_TFIDF.shape)\n",
    "print(\"Count of uniques or vocabularies: \", len(tfidf.vocabulary_))\n",
    "print(\"Example vocabularies: \", list(tfidf.vocabulary_.keys())[:10])\n",
    "print(\"Example vector:\", X_train_TFIDF[0].toarray()[0][:10])"
   ]
  },
  {
   "cell_type": "markdown",
   "id": "bc984575-b3ac-4677-b7b4-357d01a54a05",
   "metadata": {
    "jp-MarkdownHeadingCollapsed": true
   },
   "source": [
    "#### **WORD2VEC**"
   ]
  },
  {
   "cell_type": "markdown",
   "id": "be738e1d-d7fd-4e48-b19c-218508b896ca",
   "metadata": {},
   "source": [
    "> Here, I used Word2Vec as the third vectorization method, since it can capture semantic relationships and similarities between words, unlike BoW or TF-IDF that rely solely on frequency."
   ]
  },
  {
   "cell_type": "code",
   "execution_count": 39,
   "id": "105cc3ed-4f08-48ec-aaf6-3e6accf3c6b5",
   "metadata": {},
   "outputs": [
    {
     "name": "stdout",
     "output_type": "stream",
     "text": [
      "Training W2V...\n"
     ]
    }
   ],
   "source": [
    "print(\"Training W2V...\")\n",
    "w2v = Word2Vec(sentences = X_train_2, vector_size = 100, window = 7, min_count = 2, workers = 4)"
   ]
  },
  {
   "cell_type": "code",
   "execution_count": 40,
   "id": "c352041f-b481-4aaa-bd76-60b40ce92037",
   "metadata": {},
   "outputs": [],
   "source": [
    "def average_vector(tokens, model):\n",
    "    vectors = [model.wv[word] for word in tokens if word in model.wv]\n",
    "    if len(vectors) == 0:\n",
    "        return np.zeros(model.vector_size)\n",
    "    return np.mean(vectors, axis = 0)"
   ]
  },
  {
   "cell_type": "code",
   "execution_count": 41,
   "id": "df78b87f-3783-4c28-bc8e-9a6147ca84e9",
   "metadata": {},
   "outputs": [
    {
     "name": "stdout",
     "output_type": "stream",
     "text": [
      "Shape:  (11110, 100)\n",
      "Count of uniques or vocabularies:  5111\n",
      "Example vocabularies:  ['to', 'i', 'the', 'a', 'you', 'for', 'flight', 'on', 'and', 't']\n",
      "Example vector: [ 0.02360349  0.33995602  0.23368981 -0.15756534  0.017655   -0.7057472\n",
      "  0.31090978  0.83498174 -0.34400615 -0.24324204]\n"
     ]
    }
   ],
   "source": [
    "X_train_W2V = np.array([average_vector(t, w2v) for t in X_train_2])\n",
    "X_test_W2V = np.array([average_vector(t, w2v) for t in X_test_2])\n",
    "print(\"Shape: \", X_train_W2V.shape)\n",
    "print(\"Count of uniques or vocabularies: \", len(w2v.wv))\n",
    "print(\"Example vocabularies: \", list(w2v.wv.key_to_index.keys())[:10])\n",
    "print(\"Example vector:\", X_train_W2V[0][:10])"
   ]
  },
  {
   "cell_type": "markdown",
   "id": "0b3213e6-3fa9-4c28-bc8d-8c8de9065c08",
   "metadata": {
    "jp-MarkdownHeadingCollapsed": true
   },
   "source": [
    "#### **GLOVE**"
   ]
  },
  {
   "cell_type": "markdown",
   "id": "34798e98-6607-459b-b52a-272c31f729e7",
   "metadata": {},
   "source": [
    "> The fourth representation used is GloVe, another word embedding model similar to Word2Vec, but trained using global word co-occurrence statistics instead of local context prediction.  \n",
    "> I also used the pretrained **glove-twitter-100** embeddings from Gensim, which were trained and better match the domain of my data."
   ]
  },
  {
   "cell_type": "code",
   "execution_count": 42,
   "id": "ad1db911-ad57-4fe4-86b8-30409e85e363",
   "metadata": {},
   "outputs": [],
   "source": [
    "glove = api.load(\"glove-twitter-100\")"
   ]
  },
  {
   "cell_type": "code",
   "execution_count": 43,
   "id": "5f94e2b1-c614-44b4-baf3-838cf02c2f4a",
   "metadata": {},
   "outputs": [],
   "source": [
    "def get_vector(tokens):\n",
    "    words = [w for w in tokens if w in glove]\n",
    "    if not words:\n",
    "        return np.zeros(glove.vector_size)\n",
    "    return np.mean([glove[w] for w in words], axis = 0)"
   ]
  },
  {
   "cell_type": "code",
   "execution_count": 44,
   "id": "aeab6ee6-6a0d-4f24-9a63-6c1ddb93b9e6",
   "metadata": {},
   "outputs": [
    {
     "name": "stdout",
     "output_type": "stream",
     "text": [
      "Shape:  (11110, 100)\n",
      "Count of uniques or vocabularies:  1193514\n",
      "Example vocabularies:  ['<user>', '.', ':', 'rt', ',', '<repeat>', '<hashtag>', '<number>', '<url>', '!']\n",
      "Example vector: [ 0.05308282  0.22147179  0.1539059   0.01443494 -0.03866816 -0.00721848\n",
      "  0.10360511  0.04060584  0.0597218  -0.05518379]\n"
     ]
    }
   ],
   "source": [
    "X_train_glove = np.array([get_vector(t) for t in X_train_2])\n",
    "X_test_glove = np.array([get_vector(t) for t in X_test_2])\n",
    "print(\"Shape: \", X_train_glove.shape)\n",
    "print(\"Count of uniques or vocabularies: \", len(glove.key_to_index))\n",
    "print(\"Example vocabularies: \", list(glove.key_to_index.keys())[:10])\n",
    "print(\"Example vector:\", X_train_glove[0][:10])"
   ]
  },
  {
   "cell_type": "markdown",
   "id": "7d7eb27b-b427-44a8-8e06-26c21887c72f",
   "metadata": {
    "jp-MarkdownHeadingCollapsed": true
   },
   "source": [
    "#### **FASTTEXT**"
   ]
  },
  {
   "cell_type": "markdown",
   "id": "f7c8622f-eb4f-438f-a8b8-66f9d92a4864",
   "metadata": {},
   "source": [
    "> The last representation I used is FastText, an improved embedding method compared to Word2Vec and GloVe, as it can generate representations for out-of-vocabulary (OOV) words by learning from subword information.  \n",
    "> I used the pretrained **fasttext-wiki-news-subwords-300** embeddings, which already capture general English semantics while remaining flexible enough to adapt to noisy tweet data."
   ]
  },
  {
   "cell_type": "code",
   "execution_count": 45,
   "id": "0815d27c-0364-4ea1-81e3-615fbc1eee97",
   "metadata": {},
   "outputs": [],
   "source": [
    "ftext = api.load(\"fasttext-wiki-news-subwords-300\")"
   ]
  },
  {
   "cell_type": "code",
   "execution_count": 46,
   "id": "0b960366-becd-48f0-a99c-00be7946d8b8",
   "metadata": {},
   "outputs": [],
   "source": [
    "def average_vector_f(tokens, model):\n",
    "    vectors = []\n",
    "    for word in tokens:\n",
    "        try:\n",
    "            vectors.append(model[word])\n",
    "        except KeyError:\n",
    "            continue\n",
    "    if len(vectors) == 0:\n",
    "        return np.zeros(model.vector_size)\n",
    "    return np.mean(vectors, axis=0)"
   ]
  },
  {
   "cell_type": "code",
   "execution_count": 47,
   "id": "68a86f67-e97f-4e8d-9154-afe53d33541a",
   "metadata": {},
   "outputs": [
    {
     "name": "stdout",
     "output_type": "stream",
     "text": [
      "Shape:  (11110, 300)\n",
      "Count of uniques or vocabularies:  999999\n",
      "Example vocabularies:  [',', 'the', '.', 'and', 'of', 'to', 'in', 'a', '\"', ':']\n",
      "Example vector: [ 0.05308282  0.22147179  0.1539059   0.01443494 -0.03866816 -0.00721848\n",
      "  0.10360511  0.04060584  0.0597218  -0.05518379]\n"
     ]
    }
   ],
   "source": [
    "X_train_FT = np.array([average_vector_f(t, ftext) for t in X_train_2])\n",
    "X_test_FT = np.array([average_vector_f(t, ftext) for t in X_test_2])\n",
    "print(\"Shape: \", X_train_FT.shape)\n",
    "print(\"Count of uniques or vocabularies: \", len(ftext))\n",
    "print(\"Example vocabularies: \", list(ftext.key_to_index.keys())[:10])\n",
    "print(\"Example vector:\", X_train_glove[0][:10])"
   ]
  },
  {
   "cell_type": "markdown",
   "id": "b7915f4b-3305-4188-8ee0-e965fbd6bbe4",
   "metadata": {
    "jp-MarkdownHeadingCollapsed": true
   },
   "source": [
    "### **MODEL TRAINING, EVALUATION, AND FINE TUNING**"
   ]
  },
  {
   "cell_type": "markdown",
   "id": "21ea8413-4acd-44e7-bec2-1eaa03119009",
   "metadata": {},
   "source": [
    "> As the baseline model for this sentiment analysis, I used a Random Forest classifier.  \n",
    "> This model was chosen because it provides strong baseline performance even on noisy and high-dimensional data such as text features.  \n",
    "> The Random Forest can handle sparse inputs from Bag of Words and TF-IDF representations effectively, while being relatively robust to overfitting.  \n",
    "> Random Forest was also applied on top of Word2Vec, GloVe, and FastText embeddings to maintain model consistency across representations.  \n",
    "> Since these embeddings produce dense numerical vectors, Random Forest can still learn non-linear decision boundaries from them, making it suitable as a fair baseline for comparison."
   ]
  },
  {
   "cell_type": "code",
   "execution_count": 48,
   "id": "3e691515-2908-4178-be05-b35aca391e21",
   "metadata": {},
   "outputs": [],
   "source": [
    "model = RandomForestClassifier(n_estimators = 100, max_depth = 10, min_samples_split = 10, random_state = 42)"
   ]
  },
  {
   "cell_type": "markdown",
   "id": "5198b8a4-c5cd-45b0-b35f-4f24d4012376",
   "metadata": {},
   "source": [
    "> I also created a **results_df** dataframe to store all evaluation metrics from the models, making it easier to compare their performance later on."
   ]
  },
  {
   "cell_type": "code",
   "execution_count": 49,
   "id": "179165db-8f66-4c5f-9ea0-e6bdd6de9f26",
   "metadata": {},
   "outputs": [],
   "source": [
    "results_df = pd.DataFrame(columns = [\n",
    "    \"Model\", \"Description\", \"Average Type\", \"Accuracy\", \"Precision\", \"Recall\", \"F1 Score\", \"F1 Negative\", \"F1 Neutral\", \"F1 Positive\"\n",
    "])"
   ]
  },
  {
   "cell_type": "code",
   "execution_count": 50,
   "id": "5a9d33d2-dd44-4bf6-b19c-8e7eb2ed4501",
   "metadata": {},
   "outputs": [],
   "source": [
    "def add_result(model_name, description, y_true, y_pred, used_smote = False):\n",
    "    avg_type = \"macro\" if used_smote else \"weighted\"\n",
    "    f1_per_class = f1_score(y_true, y_pred, average = None, zero_division = 0)\n",
    "    f1_negative, f1_neutral, f1_positive = f1_per_class\n",
    "    \n",
    "    results_df.loc[len(results_df)] = {\n",
    "        \"Model\": model_name,\n",
    "        \"Description\": description,\n",
    "        \"Average Type\": avg_type,\n",
    "        \"Accuracy\": accuracy_score(y_true, y_pred),\n",
    "        \"Precision\": precision_score(y_true, y_pred, average = avg_type, zero_division = 0),\n",
    "        \"Recall\": recall_score(y_true, y_pred, average = avg_type, zero_division = 0),\n",
    "        \"F1 Score\": f1_score(y_true, y_pred, average = avg_type, zero_division = 0),\n",
    "        \"F1 Negative\": f1_negative,\n",
    "        \"F1 Neutral\": f1_neutral,\n",
    "        \"F1 Positive\": f1_positive\n",
    "    }"
   ]
  },
  {
   "cell_type": "markdown",
   "id": "d581dcf7-2df0-4fdf-84a6-fcd54c380df8",
   "metadata": {
    "jp-MarkdownHeadingCollapsed": true
   },
   "source": [
    "#### **BOW**"
   ]
  },
  {
   "cell_type": "code",
   "execution_count": 51,
   "id": "ab8b7126-aa99-41b7-9c34-62dbf69ffd96",
   "metadata": {},
   "outputs": [
    {
     "name": "stdout",
     "output_type": "stream",
     "text": [
      "              precision    recall  f1-score   support\n",
      "\n",
      "    negative       0.63      1.00      0.77      1816\n",
      "     neutral       0.00      0.00      0.00       609\n",
      "    positive       0.00      0.00      0.00       456\n",
      "\n",
      "    accuracy                           0.63      2881\n",
      "   macro avg       0.21      0.33      0.26      2881\n",
      "weighted avg       0.40      0.63      0.49      2881\n",
      "\n"
     ]
    }
   ],
   "source": [
    "model.fit(X_train_BOW, y_train_1)\n",
    "y_pred_BOW = model.predict(X_test_BOW)\n",
    "print(classification_report(y_test_1, y_pred_BOW))"
   ]
  },
  {
   "cell_type": "markdown",
   "id": "390132bc-5893-4e78-9e15-9545fad3e6eb",
   "metadata": {},
   "source": [
    "> Based on the classification report, the overall model accuracy is around 63%, indicating a relatively weak start.  \n",
    "> The macro and weighted averages of precision, recall, and F1 scores are all below 50%, suggesting that the model fails to generalize well across sentiment classes.  \n",
    "> Moreover, the precision, recall, and F1 scores for both neutral and positive sentiments are 0, meaning that the model completely failed to identify any samples from these classes.  \n",
    "> This shows a heavy bias toward the dominant negative class."
   ]
  },
  {
   "cell_type": "code",
   "execution_count": 52,
   "id": "c92c0bae-533d-4479-ab1b-607d009edfbb",
   "metadata": {},
   "outputs": [],
   "source": [
    "add_result(\"Model 1\", \n",
    "           \"Bag of Words\",\n",
    "           y_test_1,\n",
    "           y_pred_BOW)"
   ]
  },
  {
   "cell_type": "markdown",
   "id": "46a280ee-94c8-4956-9ce4-2fa40af2a198",
   "metadata": {
    "jp-MarkdownHeadingCollapsed": true
   },
   "source": [
    "#### **TFIDF**"
   ]
  },
  {
   "cell_type": "code",
   "execution_count": 53,
   "id": "b4909f9a-8c04-4a3c-80e8-9e33eccf3cfe",
   "metadata": {},
   "outputs": [
    {
     "name": "stdout",
     "output_type": "stream",
     "text": [
      "              precision    recall  f1-score   support\n",
      "\n",
      "    negative       0.63      1.00      0.77      1816\n",
      "     neutral       0.92      0.02      0.04       609\n",
      "    positive       0.00      0.00      0.00       456\n",
      "\n",
      "    accuracy                           0.63      2881\n",
      "   macro avg       0.52      0.34      0.27      2881\n",
      "weighted avg       0.59      0.63      0.50      2881\n",
      "\n"
     ]
    }
   ],
   "source": [
    "model.fit(X_train_TFIDF, y_train_1)\n",
    "y_pred_TFIDF = model.predict(X_test_TFIDF)\n",
    "print(classification_report(y_test_1, y_pred_TFIDF))"
   ]
  },
  {
   "cell_type": "markdown",
   "id": "33357142-ab64-47a4-bc5b-6fd18c7da890",
   "metadata": {},
   "source": [
    "> Based on the classification report, even though the overall accuracy and the macro and weighted F1 scores remain relatively similar to the previous model, the precision for the neutral sentiment significantly increased to 92%.  \n",
    "> This indicates that the TF-IDF representation helps the model better distinguish neutral tweets, even if its recall is still very low. "
   ]
  },
  {
   "cell_type": "code",
   "execution_count": 54,
   "id": "78b86167-e88d-40dd-9f0c-7d5269db0a6e",
   "metadata": {},
   "outputs": [],
   "source": [
    "add_result(\"Model 2\", \n",
    "           \"TFIDF\",\n",
    "           y_test_1,\n",
    "           y_pred_TFIDF)"
   ]
  },
  {
   "cell_type": "markdown",
   "id": "76809eb6-aa8b-48b0-ac42-0b8265e73ab4",
   "metadata": {
    "jp-MarkdownHeadingCollapsed": true
   },
   "source": [
    "#### **WORD2VEC**"
   ]
  },
  {
   "cell_type": "code",
   "execution_count": 55,
   "id": "8974e4a2-e9e9-446b-b183-2de01a2fa3eb",
   "metadata": {},
   "outputs": [
    {
     "name": "stdout",
     "output_type": "stream",
     "text": [
      "              precision    recall  f1-score   support\n",
      "\n",
      "    negative       0.72      0.78      0.75      1816\n",
      "     neutral       0.37      0.45      0.40       609\n",
      "    positive       0.60      0.20      0.30       456\n",
      "\n",
      "    accuracy                           0.62      2881\n",
      "   macro avg       0.56      0.48      0.49      2881\n",
      "weighted avg       0.63      0.62      0.61      2881\n",
      "\n"
     ]
    }
   ],
   "source": [
    "model.fit(X_train_W2V, y_train_2)\n",
    "y_pred_W2V = model.predict(X_test_W2V)\n",
    "print(classification_report(y_test_2, y_pred_W2V))"
   ]
  },
  {
   "cell_type": "markdown",
   "id": "91e7bf2c-3236-4698-a797-f463d7b2d3ee",
   "metadata": {},
   "source": [
    "> The third model shows a more balanced trade-off between precision and recall across all sentiment classes.  \n",
    "> Although the overall performance is still relatively weak, it demonstrates a clear improvement compared to the previous two models.  \n",
    "> In particular, the weighted F1 score increased by around 10% compared to the TF-IDF model, indicating that this representation helps the model generalize better across different sentiments."
   ]
  },
  {
   "cell_type": "code",
   "execution_count": 56,
   "id": "234f1e3c-18eb-435a-8aec-91854fea2010",
   "metadata": {},
   "outputs": [],
   "source": [
    "add_result(\"Model 3\", \n",
    "           \"Word2Vec\",\n",
    "           y_test_2,\n",
    "           y_pred_W2V)"
   ]
  },
  {
   "cell_type": "markdown",
   "id": "b20c5cb9-47b6-4428-8fb7-1196d7a92de6",
   "metadata": {
    "jp-MarkdownHeadingCollapsed": true
   },
   "source": [
    "#### **GLOVE**"
   ]
  },
  {
   "cell_type": "code",
   "execution_count": 57,
   "id": "d50f1ec7-9fad-4d15-b7ce-8aff119de6ba",
   "metadata": {},
   "outputs": [
    {
     "name": "stdout",
     "output_type": "stream",
     "text": [
      "              precision    recall  f1-score   support\n",
      "\n",
      "    negative       0.74      0.94      0.83      1816\n",
      "     neutral       0.58      0.29      0.39       609\n",
      "    positive       0.72      0.44      0.55       456\n",
      "\n",
      "    accuracy                           0.73      2881\n",
      "   macro avg       0.68      0.56      0.59      2881\n",
      "weighted avg       0.71      0.73      0.69      2881\n",
      "\n"
     ]
    }
   ],
   "source": [
    "model.fit(X_train_glove, y_train_2)\n",
    "y_pred_glove = model.predict(X_test_glove)\n",
    "print(classification_report(y_test_2, y_pred_glove))"
   ]
  },
  {
   "cell_type": "markdown",
   "id": "3a13a266-005c-40ad-b133-2c8267f1a2cb",
   "metadata": {},
   "source": [
    "> The fourth model shows a significant improvement in overall accuracy, positive sentiment prediction, and weighted F1 score.  \n",
    "> This indicates that using GloVe as the text representation provides a more meaningful and semantically rich encoding compared to the previous methods.  \n",
    "> The model now captures sentiment cues more effectively, especially for positive tweets, although there is still room for improvement."
   ]
  },
  {
   "cell_type": "code",
   "execution_count": 58,
   "id": "997e8817-073b-4097-b1d1-901b67cafa18",
   "metadata": {},
   "outputs": [],
   "source": [
    "add_result(\"Model 4\", \n",
    "           \"GloVe\",\n",
    "           y_test_2,\n",
    "           y_pred_glove)"
   ]
  },
  {
   "cell_type": "markdown",
   "id": "ea05b3c0-c822-437c-912a-4e1a05748c38",
   "metadata": {
    "jp-MarkdownHeadingCollapsed": true
   },
   "source": [
    "#### **FASTTEXT**"
   ]
  },
  {
   "cell_type": "code",
   "execution_count": 59,
   "id": "e89ad007-ef3d-4ce5-b64b-cab6042ddaf8",
   "metadata": {},
   "outputs": [
    {
     "name": "stdout",
     "output_type": "stream",
     "text": [
      "              precision    recall  f1-score   support\n",
      "\n",
      "    negative       0.74      0.93      0.83      1816\n",
      "     neutral       0.53      0.26      0.35       609\n",
      "    positive       0.73      0.46      0.57       456\n",
      "\n",
      "    accuracy                           0.72      2881\n",
      "   macro avg       0.67      0.55      0.58      2881\n",
      "weighted avg       0.69      0.72      0.68      2881\n",
      "\n"
     ]
    }
   ],
   "source": [
    "model.fit(X_train_FT, y_train_2)\n",
    "y_pred_FT = model.predict(X_test_FT)\n",
    "print(classification_report(y_test_2, y_pred_FT))"
   ]
  },
  {
   "cell_type": "markdown",
   "id": "9b08d48d-53ff-4262-8b09-bb0ffd329b2f",
   "metadata": {},
   "source": [
    "> The fifth model, which uses FastText embeddings, performs relatively similar to the previous GloVe-based model.  \n",
    "> The overall accuracy and weighted F1 score remain consistent at around 72% and 0.68 respectively, showing that both embeddings capture sentiment-related information effectively.  \n",
    "> However, FastText does not show a clear advantage in this data, possibly because the tweet corpus is relatively clean and contains few out-of-vocabulary words."
   ]
  },
  {
   "cell_type": "code",
   "execution_count": 60,
   "id": "9b4e477f-905d-449d-9d09-37240e49fba7",
   "metadata": {},
   "outputs": [],
   "source": [
    "add_result(\"Model 5\", \n",
    "           \"FastText\",\n",
    "           y_test_2,\n",
    "           y_pred_FT)"
   ]
  },
  {
   "cell_type": "markdown",
   "id": "84cfd7ca-2542-4859-a9c7-53411024b346",
   "metadata": {
    "jp-MarkdownHeadingCollapsed": true
   },
   "source": [
    "### **FINE TUNING**"
   ]
  },
  {
   "cell_type": "markdown",
   "id": "9e6ce5d2-aafa-42f8-8919-c4f3e2403a49",
   "metadata": {},
   "source": [
    "> In order to fit the data better, I performed fine-tuning for all models to determine the optimal configuration for each text representation."
   ]
  },
  {
   "cell_type": "code",
   "execution_count": 61,
   "id": "75fb3d7f-04ef-44cb-9392-f42dd8ddc59b",
   "metadata": {},
   "outputs": [],
   "source": [
    "hyparameters = {\n",
    "    \"n_estimators\": [100, 200],\n",
    "    \"max_depth\": [10, 20, 30],\n",
    "    \"min_samples_split\": [10, 20, 30],\n",
    "    \"random_state\": [42]\n",
    "}\n",
    "\n",
    "cv_strategy = StratifiedKFold(n_splits = 10, shuffle = True, random_state = 42)"
   ]
  },
  {
   "cell_type": "markdown",
   "id": "ac6412a1-da71-41e0-a263-f2cdd8f6dbeb",
   "metadata": {
    "jp-MarkdownHeadingCollapsed": true
   },
   "source": [
    "#### **BOW**"
   ]
  },
  {
   "cell_type": "code",
   "execution_count": 62,
   "id": "6bd677f0-cc05-439d-a820-b2a9c18308a4",
   "metadata": {},
   "outputs": [
    {
     "name": "stdout",
     "output_type": "stream",
     "text": [
      "Fitting 10 folds for each of 18 candidates, totalling 180 fits\n",
      "Best parameter :  {'max_depth': 30, 'min_samples_split': 10, 'n_estimators': 100, 'random_state': 42}\n",
      "Best score :  0.5878750903069417\n"
     ]
    }
   ],
   "source": [
    "grid_search = GridSearchCV(estimator = model, \n",
    "                           param_grid = hyparameters,\n",
    "                           scoring = \"f1_weighted\", \n",
    "                           cv = cv_strategy, \n",
    "                           n_jobs = -1, \n",
    "                           verbose = 2)\n",
    "\n",
    "grid_search.fit(X_train_BOW, y_train_1)\n",
    "\n",
    "print(\"Best parameter : \", grid_search.best_params_)\n",
    "print(\"Best score : \", grid_search.best_score_)"
   ]
  },
  {
   "cell_type": "code",
   "execution_count": 63,
   "id": "eb6a864b-f8cb-4b52-af26-b8fe0eec7030",
   "metadata": {},
   "outputs": [
    {
     "name": "stdout",
     "output_type": "stream",
     "text": [
      "              precision    recall  f1-score   support\n",
      "\n",
      "    negative       0.65      1.00      0.79      1816\n",
      "     neutral       0.84      0.06      0.12       609\n",
      "    positive       0.96      0.11      0.20       456\n",
      "\n",
      "    accuracy                           0.66      2881\n",
      "   macro avg       0.82      0.39      0.37      2881\n",
      "weighted avg       0.74      0.66      0.55      2881\n",
      "\n"
     ]
    }
   ],
   "source": [
    "ft_BOW_model = grid_search.best_estimator_\n",
    "ft_BOW_model.fit(X_train_BOW, y_train_1)\n",
    "y_pred_FT_BOW = ft_BOW_model.predict(X_test_BOW)\n",
    "print(classification_report(y_test_1, y_pred_FT_BOW))"
   ]
  },
  {
   "cell_type": "markdown",
   "id": "71f794a4-9948-41db-994a-6f7228ea7b2d",
   "metadata": {},
   "source": [
    "> After fine-tuning, the BOW-based model shows a clear improvement, particularly for the neutral and positive sentiments.  \n",
    "> Both classes now achieve precision scores above 70%, although their recall values remain relatively low.  \n",
    "> This suggests that the model can now identify these sentiments more accurately when it does predict them, but it still fails to detect most of their occurrences.\n",
    "> The optimal configuration: ```{'max_depth': 30, 'min_samples_split': 10, 'n_estimators': 100, 'random_state': 42}``` fits the data better, leading to a modest overall accuracy improvement to 66%."
   ]
  },
  {
   "cell_type": "code",
   "execution_count": 66,
   "id": "74fbf4cf-e07e-4639-9cba-af5dd0811be3",
   "metadata": {},
   "outputs": [],
   "source": [
    "add_result(\"Model 6\", \n",
    "           \"Bag of Words + Fine Tuning\",\n",
    "           y_test_1,\n",
    "           y_pred_FT_BOW)"
   ]
  },
  {
   "cell_type": "markdown",
   "id": "e569bccb-04e6-4925-a148-edcf9b153209",
   "metadata": {
    "jp-MarkdownHeadingCollapsed": true
   },
   "source": [
    "#### **TFIDF**"
   ]
  },
  {
   "cell_type": "code",
   "execution_count": 64,
   "id": "520bbefe-562b-4572-9371-5838d80da772",
   "metadata": {},
   "outputs": [
    {
     "name": "stdout",
     "output_type": "stream",
     "text": [
      "Fitting 10 folds for each of 18 candidates, totalling 180 fits\n",
      "Best parameter :  {'max_depth': 30, 'min_samples_split': 10, 'n_estimators': 200, 'random_state': 42}\n",
      "Best score :  0.599328225560468\n"
     ]
    }
   ],
   "source": [
    "grid_search = GridSearchCV(estimator = model, \n",
    "                           param_grid = hyparameters,\n",
    "                           scoring = \"f1_weighted\", \n",
    "                           cv = cv_strategy, \n",
    "                           n_jobs = -1, \n",
    "                           verbose = 2)\n",
    "\n",
    "grid_search.fit(X_train_TFIDF, y_train_1)\n",
    "\n",
    "print(\"Best parameter : \", grid_search.best_params_)\n",
    "print(\"Best score : \", grid_search.best_score_)"
   ]
  },
  {
   "cell_type": "code",
   "execution_count": 65,
   "id": "213d9b54-9bf0-41a6-b3f5-60ea4ef56da4",
   "metadata": {},
   "outputs": [
    {
     "name": "stdout",
     "output_type": "stream",
     "text": [
      "              precision    recall  f1-score   support\n",
      "\n",
      "    negative       0.63      1.00      0.77      1816\n",
      "     neutral       0.00      0.00      0.00       609\n",
      "    positive       0.00      0.00      0.00       456\n",
      "\n",
      "    accuracy                           0.63      2881\n",
      "   macro avg       0.21      0.33      0.26      2881\n",
      "weighted avg       0.40      0.63      0.49      2881\n",
      "\n"
     ]
    }
   ],
   "source": [
    "ft_TFIDF_model = grid_search.best_estimator_\n",
    "ft_TFIDF_model.fit(X_train_TFIDF, y_train_1)\n",
    "y_pred_FT_TFIDF = ft_BOW_model.predict(X_test_TFIDF)\n",
    "print(classification_report(y_test_1, y_pred_FT_TFIDF))"
   ]
  },
  {
   "cell_type": "markdown",
   "id": "a54f4ddb-35d9-497b-bce9-875771c5deb0",
   "metadata": {},
   "source": [
    "> After fine-tuning, the TF-IDF-based model experienced a notable performance drop.  \n",
    "> While accuracy remains the same, both macro and weighted F1 scores decline significantly, suggesting that the tuned hyperparameters led to stronger overfitting toward the dominant negative class.  \n",
    "> This result highlights that fine-tuning does not always guarantee improvement, especially when dealing with sparse and imbalanced text data."
   ]
  },
  {
   "cell_type": "code",
   "execution_count": 67,
   "id": "3191a648-e7b2-432b-ab98-a0340a708b94",
   "metadata": {},
   "outputs": [],
   "source": [
    "add_result(\"Model 7\", \n",
    "           \"TFIDF + Fine Tuning\",\n",
    "           y_test_1,\n",
    "           y_pred_FT_TFIDF)"
   ]
  },
  {
   "cell_type": "markdown",
   "id": "1bcbac8a-ff2e-440c-aef9-1857d0e63293",
   "metadata": {
    "jp-MarkdownHeadingCollapsed": true
   },
   "source": [
    "#### **WORD2VEC**"
   ]
  },
  {
   "cell_type": "code",
   "execution_count": 70,
   "id": "9ab83f49-5a0c-4b3c-9a48-1bc9ce3fa93d",
   "metadata": {},
   "outputs": [
    {
     "name": "stdout",
     "output_type": "stream",
     "text": [
      "Fitting 10 folds for each of 18 candidates, totalling 180 fits\n",
      "Best parameter :  {'max_depth': 30, 'min_samples_split': 10, 'n_estimators': 200, 'random_state': 42}\n",
      "Best score :  0.6504460871267509\n"
     ]
    }
   ],
   "source": [
    "grid_search = GridSearchCV(estimator = model, \n",
    "                           param_grid = hyparameters,\n",
    "                           scoring = \"f1_weighted\", \n",
    "                           cv = cv_strategy, \n",
    "                           n_jobs = -1, \n",
    "                           verbose = 2)\n",
    "\n",
    "grid_search.fit(X_train_W2V, y_train_2)\n",
    "\n",
    "print(\"Best parameter : \", grid_search.best_params_)\n",
    "print(\"Best score : \", grid_search.best_score_)"
   ]
  },
  {
   "cell_type": "code",
   "execution_count": 71,
   "id": "ae0c1b0c-e363-4090-9aa0-a4adc020cdbb",
   "metadata": {},
   "outputs": [
    {
     "name": "stdout",
     "output_type": "stream",
     "text": [
      "              precision    recall  f1-score   support\n",
      "\n",
      "    negative       0.74      0.73      0.73      1816\n",
      "     neutral       0.36      0.50      0.42       609\n",
      "    positive       0.52      0.26      0.34       456\n",
      "\n",
      "    accuracy                           0.61      2881\n",
      "   macro avg       0.54      0.50      0.50      2881\n",
      "weighted avg       0.62      0.61      0.60      2881\n",
      "\n"
     ]
    }
   ],
   "source": [
    "ft_W2V_model = grid_search.best_estimator_\n",
    "ft_W2V_model.fit(X_train_W2V, y_train_2)\n",
    "y_pred_FT_W2V = ft_W2V_model.predict(X_test_W2V)\n",
    "print(classification_report(y_test_2, y_pred_FT_W2V))"
   ]
  },
  {
   "cell_type": "markdown",
   "id": "e3775f89-29ab-4f94-9ff5-13a053df102f",
   "metadata": {},
   "source": [
    "> After fine-tuning, the W2V-based model shows only a slight decrease in overall performance, with accuracy dropping marginally from 62% to 61%.  \n",
    "> However, there is no significant improvement across any sentiment class.  \n",
    "> This suggests that the fine-tuning parameters did not meaningfully affect model generalization, likely because averaging Word2Vec embeddings already provides a stable but limited feature representation that the classifier cannot further optimize."
   ]
  },
  {
   "cell_type": "code",
   "execution_count": 72,
   "id": "68b18a95-13d1-49a3-b6e6-7f02c6e64a99",
   "metadata": {},
   "outputs": [],
   "source": [
    "add_result(\"Model 8\", \n",
    "           \"Word2Vec + Fine Tuning\",\n",
    "           y_test_2,\n",
    "           y_pred_FT_W2V)"
   ]
  },
  {
   "cell_type": "markdown",
   "id": "27609ebf-893d-48c6-9806-c183880aef86",
   "metadata": {
    "jp-MarkdownHeadingCollapsed": true
   },
   "source": [
    "#### **GLOVE**"
   ]
  },
  {
   "cell_type": "code",
   "execution_count": 73,
   "id": "28ab9071-ecde-40ea-b07d-ce783b9bdcca",
   "metadata": {},
   "outputs": [
    {
     "name": "stdout",
     "output_type": "stream",
     "text": [
      "Fitting 10 folds for each of 18 candidates, totalling 180 fits\n",
      "Best parameter :  {'max_depth': 30, 'min_samples_split': 10, 'n_estimators': 200, 'random_state': 42}\n",
      "Best score :  0.7173314783826835\n"
     ]
    }
   ],
   "source": [
    "grid_search = GridSearchCV(estimator = model, \n",
    "                           param_grid = hyparameters,\n",
    "                           scoring = \"f1_weighted\", \n",
    "                           cv = cv_strategy, \n",
    "                           n_jobs = -1, \n",
    "                           verbose = 2)\n",
    "\n",
    "grid_search.fit(X_train_glove, y_train_2)\n",
    "\n",
    "print(\"Best parameter : \", grid_search.best_params_)\n",
    "print(\"Best score : \", grid_search.best_score_)"
   ]
  },
  {
   "cell_type": "code",
   "execution_count": 74,
   "id": "63b151f5-02b0-4b16-b597-e0e0dcab33cf",
   "metadata": {},
   "outputs": [
    {
     "name": "stdout",
     "output_type": "stream",
     "text": [
      "              precision    recall  f1-score   support\n",
      "\n",
      "    negative       0.81      0.86      0.84      1816\n",
      "     neutral       0.52      0.50      0.51       609\n",
      "    positive       0.71      0.58      0.64       456\n",
      "\n",
      "    accuracy                           0.74      2881\n",
      "   macro avg       0.68      0.65      0.66      2881\n",
      "weighted avg       0.74      0.74      0.74      2881\n",
      "\n"
     ]
    }
   ],
   "source": [
    "ft_glove_model = grid_search.best_estimator_\n",
    "ft_glove_model.fit(X_train_glove, y_train_2)\n",
    "y_pred_FT_glove = ft_glove_model.predict(X_test_glove)\n",
    "print(classification_report(y_test_2, y_pred_FT_glove))"
   ]
  },
  {
   "cell_type": "markdown",
   "id": "69d4b473-b3b4-482b-bf18-1a2a6a3324cd",
   "metadata": {},
   "source": [
    "> The fine-tuned GloVe-based model demonstrates a more stable and balanced performance across sentiment classes.  \n",
    "> The neutral and positive sentiments show noticeable improvements in both recall and F1-score, while the negative class remains consistently strong.  \n",
    "> This indicates that the tuned configuration: ```{'max_depth': 30, 'min_samples_split': 10, 'n_estimators': 200, 'random_state': 42}``` successfully improved the model's generalization, allowing it to better capture the semantic distinctions encoded in GloVe embeddings."
   ]
  },
  {
   "cell_type": "code",
   "execution_count": 76,
   "id": "6f0ceb35-2d86-43e3-9628-2c9e6a4491e0",
   "metadata": {},
   "outputs": [],
   "source": [
    "add_result(\"Model 9\", \n",
    "           \"GloVe + Fine Tuning\",\n",
    "           y_test_2,\n",
    "           y_pred_FT_glove)"
   ]
  },
  {
   "cell_type": "markdown",
   "id": "796dbee2-eb65-4429-8dba-885af0c5fc82",
   "metadata": {
    "jp-MarkdownHeadingCollapsed": true
   },
   "source": [
    "#### **FASTTEXT**"
   ]
  },
  {
   "cell_type": "code",
   "execution_count": 80,
   "id": "9416b123-3f23-4fb6-a9fa-73963a4b49a9",
   "metadata": {},
   "outputs": [
    {
     "name": "stdout",
     "output_type": "stream",
     "text": [
      "Fitting 10 folds for each of 18 candidates, totalling 180 fits\n",
      "Best parameter :  {'max_depth': 30, 'min_samples_split': 10, 'n_estimators': 100, 'random_state': 42}\n",
      "Best score :  0.6913384540549303\n"
     ]
    }
   ],
   "source": [
    "grid_search = GridSearchCV(estimator = model, \n",
    "                           param_grid = hyparameters,\n",
    "                           scoring = \"f1_weighted\", \n",
    "                           cv = cv_strategy, \n",
    "                           n_jobs = -1, \n",
    "                           verbose = 2)\n",
    "\n",
    "grid_search.fit(X_train_FT, y_train_2)\n",
    "\n",
    "print(\"Best parameter : \", grid_search.best_params_)\n",
    "print(\"Best score : \", grid_search.best_score_)"
   ]
  },
  {
   "cell_type": "code",
   "execution_count": 81,
   "id": "879e4632-0c7d-4c76-84fa-a424d0f64417",
   "metadata": {},
   "outputs": [
    {
     "name": "stdout",
     "output_type": "stream",
     "text": [
      "              precision    recall  f1-score   support\n",
      "\n",
      "    negative       0.79      0.84      0.82      1816\n",
      "     neutral       0.47      0.44      0.46       609\n",
      "    positive       0.67      0.58      0.62       456\n",
      "\n",
      "    accuracy                           0.71      2881\n",
      "   macro avg       0.64      0.62      0.63      2881\n",
      "weighted avg       0.71      0.71      0.71      2881\n",
      "\n"
     ]
    }
   ],
   "source": [
    "ft_ftext_model = grid_search.best_estimator_\n",
    "ft_ftext_model.fit(X_train_FT, y_train_2)\n",
    "y_pred_FT_ftext = ft_ftext_model.predict(X_test_FT)\n",
    "print(classification_report(y_test_2, y_pred_FT_ftext))"
   ]
  },
  {
   "cell_type": "markdown",
   "id": "329f3f97-0f23-49de-8d93-d4a2286e8463",
   "metadata": {},
   "source": [
    "> After fine-tuning, the FastText-based model maintains a consistent performance with only minor changes compared to its baseline.  \n",
    "> While the accuracy remains stable at around 71%, the F1-scores for the neutral and positive classes show moderate improvements, indicating slightly better balance across sentiments.  \n",
    "> However, the overall gain is less pronounced than that of the GloVe-based model, consistent with the baseline comparison, suggesting that FastText's subword-level representations provide limited additional benefit for this data, which contains relatively few out-of-vocabulary or misspelled words."
   ]
  },
  {
   "cell_type": "code",
   "execution_count": 82,
   "id": "a3524d24-8b3a-403d-872d-575f870dbdf7",
   "metadata": {},
   "outputs": [],
   "source": [
    "add_result(\"Model 10\", \n",
    "           \"FastText + Fine Tuning\",\n",
    "           y_test_2,\n",
    "           y_pred_FT_ftext)"
   ]
  },
  {
   "cell_type": "markdown",
   "id": "52670aa8-65cd-4df4-af87-f57549d02d52",
   "metadata": {
    "jp-MarkdownHeadingCollapsed": true
   },
   "source": [
    "### **AFTER IMBALANCE DATA HANDLING: SMOTE**"
   ]
  },
  {
   "cell_type": "markdown",
   "id": "7bad3cb5-870a-4eff-9e90-2b4163919470",
   "metadata": {},
   "source": [
    "> To handle the class imbalance, I used SMOTE (Synthetic Minority Oversampling Technique) to generate synthetic samples for the minority classes.  \n",
    "> Unlike random oversampling, SMOTE creates new examples based on existing ones, reducing the risk of overfitting while helping the model generalize better.  \n",
    "> I didn’t use undersampling because cutting down the negative tweets to match the smaller classes would remove too much useful information."
   ]
  },
  {
   "cell_type": "code",
   "execution_count": 83,
   "id": "dae52479-d8e1-466f-af06-516378e689a5",
   "metadata": {},
   "outputs": [],
   "source": [
    "smote = SMOTE(random_state = 42)"
   ]
  },
  {
   "cell_type": "code",
   "execution_count": 84,
   "id": "99b80536-0735-4818-91a1-c76d5d308c4a",
   "metadata": {},
   "outputs": [
    {
     "name": "stdout",
     "output_type": "stream",
     "text": [
      "Before SMOTE: {'negative': 6901, 'neutral': 1971, 'positive': 1466}\n",
      "After SMOTE: {'negative': 6901, 'positive': 6901, 'neutral': 6901}\n"
     ]
    }
   ],
   "source": [
    "X_train_BOW_b, y_train_BOW_b = smote.fit_resample(X_train_BOW, y_train_1)\n",
    "print(\"Before SMOTE:\", y_train_1.value_counts().to_dict())\n",
    "print(\"After SMOTE:\",  pd.Series(y_train_BOW_b).value_counts().to_dict())"
   ]
  },
  {
   "cell_type": "code",
   "execution_count": 85,
   "id": "d2e2c0e5-90d4-4708-959a-18fb83b8cfbc",
   "metadata": {},
   "outputs": [
    {
     "name": "stdout",
     "output_type": "stream",
     "text": [
      "Before SMOTE: {'negative': 6901, 'neutral': 1971, 'positive': 1466}\n",
      "After SMOTE: {'negative': 6901, 'positive': 6901, 'neutral': 6901}\n"
     ]
    }
   ],
   "source": [
    "X_train_TFIDF_b, y_train_TFIDF_b = smote.fit_resample(X_train_TFIDF, y_train_1)\n",
    "print(\"Before SMOTE:\", y_train_1.value_counts().to_dict())\n",
    "print(\"After SMOTE:\",  pd.Series(y_train_TFIDF_b).value_counts().to_dict())"
   ]
  },
  {
   "cell_type": "code",
   "execution_count": 86,
   "id": "76ea31c3-19c3-4c91-b7cb-265832268bb8",
   "metadata": {},
   "outputs": [
    {
     "name": "stdout",
     "output_type": "stream",
     "text": [
      "Before SMOTE: {'negative': 7176, 'neutral': 2277, 'positive': 1657}\n",
      "After SMOTE: {'negative': 7176, 'positive': 7176, 'neutral': 7176}\n"
     ]
    }
   ],
   "source": [
    "X_train_W2V_b, y_train_W2V_b = smote.fit_resample(X_train_W2V, y_train_2)\n",
    "print(\"Before SMOTE:\", y_train_2.value_counts().to_dict())\n",
    "print(\"After SMOTE:\",  pd.Series(y_train_W2V_b).value_counts().to_dict())"
   ]
  },
  {
   "cell_type": "code",
   "execution_count": 87,
   "id": "3a43afc3-fc22-42c2-a1d6-2e51f7466558",
   "metadata": {},
   "outputs": [
    {
     "name": "stdout",
     "output_type": "stream",
     "text": [
      "Before SMOTE: {'negative': 7176, 'neutral': 2277, 'positive': 1657}\n",
      "After SMOTE: {'negative': 7176, 'positive': 7176, 'neutral': 7176}\n"
     ]
    }
   ],
   "source": [
    "X_train_glove_b, y_train_glove_b = smote.fit_resample(X_train_glove, y_train_2)\n",
    "print(\"Before SMOTE:\", y_train_2.value_counts().to_dict())\n",
    "print(\"After SMOTE:\",  pd.Series(y_train_glove_b).value_counts().to_dict())"
   ]
  },
  {
   "cell_type": "code",
   "execution_count": 88,
   "id": "26c69f20-f91e-4efd-8e12-ab8aa392ee7c",
   "metadata": {},
   "outputs": [
    {
     "name": "stdout",
     "output_type": "stream",
     "text": [
      "Before SMOTE: {'negative': 7176, 'neutral': 2277, 'positive': 1657}\n",
      "After SMOTE: {'negative': 7176, 'positive': 7176, 'neutral': 7176}\n"
     ]
    }
   ],
   "source": [
    "X_train_ftext_b, y_train_ftext_b = smote.fit_resample(X_train_FT, y_train_2)\n",
    "print(\"Before SMOTE:\", y_train_2.value_counts().to_dict())\n",
    "print(\"After SMOTE:\",  pd.Series(y_train_ftext_b).value_counts().to_dict())"
   ]
  },
  {
   "cell_type": "markdown",
   "id": "8f91523e-9ac2-4122-b96b-6aec84e4a12a",
   "metadata": {
    "jp-MarkdownHeadingCollapsed": true
   },
   "source": [
    "#### **MODELING**"
   ]
  },
  {
   "cell_type": "code",
   "execution_count": 90,
   "id": "c4136996-fe3a-4cc9-86a8-e313211dc759",
   "metadata": {},
   "outputs": [],
   "source": [
    "model_b = RandomForestClassifier(n_estimators = 100, max_depth = 10, min_samples_split = 10, random_state = 42)"
   ]
  },
  {
   "cell_type": "markdown",
   "id": "f18657e8-e0c0-4c91-b1a8-7a7b8f5c2833",
   "metadata": {
    "jp-MarkdownHeadingCollapsed": true
   },
   "source": [
    "##### **BOW**"
   ]
  },
  {
   "cell_type": "code",
   "execution_count": 91,
   "id": "0be68a89-aa74-4407-bbb1-62832340628c",
   "metadata": {},
   "outputs": [
    {
     "name": "stdout",
     "output_type": "stream",
     "text": [
      "              precision    recall  f1-score   support\n",
      "\n",
      "    negative       0.84      0.73      0.78      1816\n",
      "     neutral       0.43      0.60      0.50       609\n",
      "    positive       0.60      0.60      0.60       456\n",
      "\n",
      "    accuracy                           0.68      2881\n",
      "   macro avg       0.62      0.64      0.63      2881\n",
      "weighted avg       0.71      0.68      0.69      2881\n",
      "\n"
     ]
    }
   ],
   "source": [
    "model.fit(X_train_BOW_b, y_train_BOW_b)\n",
    "y_pred_BOW_b = model.predict(X_test_BOW)\n",
    "print(classification_report(y_test_1, y_pred_BOW_b))"
   ]
  },
  {
   "cell_type": "markdown",
   "id": "c1419f20-79ce-467f-a07b-8faae1d84bd1",
   "metadata": {},
   "source": [
    "> The BOW-based model with SMOTE demonstrates a substantial improvement in performance across all sentiment classes. The accuracy increases to 68%, and both macro and weighted F1 scores rise notably compared to the imbalanced versions.  \n",
    "> The neutral and positive classes, which previously had near-zero recall and F1 scores, now achieve around 0.50-0.60, indicating that the model can finally recognize minority sentiments more effectively.  \n",
    "> This suggests that oversampling through SMOTE successfully mitigated the class imbalance problem and allowed the model to generalize better across sentiment categories."
   ]
  },
  {
   "cell_type": "code",
   "execution_count": 92,
   "id": "3eeb0757-529d-49a9-81a1-e0e6dada2e18",
   "metadata": {},
   "outputs": [],
   "source": [
    "add_result(\"Model 11\", \n",
    "           \"Bag of Words + SMOTE\",\n",
    "           y_test_1,\n",
    "           y_pred_BOW_b,\n",
    "           used_smote = True)"
   ]
  },
  {
   "cell_type": "markdown",
   "id": "10074494-a277-4228-afdf-5632deb11ffd",
   "metadata": {
    "jp-MarkdownHeadingCollapsed": true
   },
   "source": [
    "##### **TFIDF**"
   ]
  },
  {
   "cell_type": "code",
   "execution_count": 93,
   "id": "3ee49fe9-8cab-4163-8275-2749b5b0f672",
   "metadata": {},
   "outputs": [
    {
     "name": "stdout",
     "output_type": "stream",
     "text": [
      "              precision    recall  f1-score   support\n",
      "\n",
      "    negative       0.83      0.75      0.79      1816\n",
      "     neutral       0.45      0.57      0.50       609\n",
      "    positive       0.66      0.67      0.67       456\n",
      "\n",
      "    accuracy                           0.70      2881\n",
      "   macro avg       0.64      0.66      0.65      2881\n",
      "weighted avg       0.72      0.70      0.71      2881\n",
      "\n"
     ]
    }
   ],
   "source": [
    "model.fit(X_train_TFIDF_b, y_train_TFIDF_b)\n",
    "y_pred_TFIDF_b = model.predict(X_test_TFIDF)\n",
    "print(classification_report(y_test_1, y_pred_TFIDF_b))"
   ]
  },
  {
   "cell_type": "markdown",
   "id": "d0fe3040-6ede-4b1f-92d7-556e128e1f70",
   "metadata": {},
   "source": [
    "> The TF-IDF-based model with SMOTE shows a remarkable improvement across all sentiment classes.  \n",
    "> The overall accuracy increases to 70%, and both macro and weighted F1-scores rise to around 0.65-0.71, representing a significant boost in generalization compared to the imbalanced versions.  \n",
    "> The neutral and positive sentiments, which previously had almost zero recall and F1-scores, now achieve balanced precision-recall values around 0.5-0.7.  \n",
    "> This indicates that SMOTE effectively mitigated the class imbalance issue, enabling the model to learn and predict minority sentiments more reliably without severely compromising the performance on the dominant negative class.  \n",
    "> Moreover, this model also outperforms the BOW-based model with SMOTE, achieving slightly higher accuracy and F1-scores, particularly for the positive sentiment.  \n",
    "> This suggests that TF-IDF's ability to weight less frequent, sentiment-bearing terms contributes to better discrimination across sentiment categories once data balance is restored."
   ]
  },
  {
   "cell_type": "code",
   "execution_count": 94,
   "id": "b460a252-82a9-4d0b-9454-0695ff8d13d9",
   "metadata": {},
   "outputs": [],
   "source": [
    "add_result(\"Model 12\", \n",
    "           \"TFIDF + SMOTE\",\n",
    "           y_test_1,\n",
    "           y_pred_TFIDF_b,\n",
    "           used_smote = True)"
   ]
  },
  {
   "cell_type": "markdown",
   "id": "38a88be6-cce9-40ba-8ef7-9a7257e549be",
   "metadata": {
    "jp-MarkdownHeadingCollapsed": true
   },
   "source": [
    "##### **WORD2VEC**"
   ]
  },
  {
   "cell_type": "code",
   "execution_count": 95,
   "id": "3988d217-200a-4d88-8cd7-58620a77df94",
   "metadata": {},
   "outputs": [
    {
     "name": "stdout",
     "output_type": "stream",
     "text": [
      "              precision    recall  f1-score   support\n",
      "\n",
      "    negative       0.85      0.38      0.53      1816\n",
      "     neutral       0.33      0.64      0.43       609\n",
      "    positive       0.30      0.56      0.39       456\n",
      "\n",
      "    accuracy                           0.47      2881\n",
      "   macro avg       0.49      0.53      0.45      2881\n",
      "weighted avg       0.65      0.47      0.49      2881\n",
      "\n"
     ]
    }
   ],
   "source": [
    "model.fit(X_train_W2V_b, y_train_W2V_b)\n",
    "y_pred_W2V_b = model.predict(X_test_W2V)\n",
    "print(classification_report(y_test_2, y_pred_W2V_b))"
   ]
  },
  {
   "cell_type": "markdown",
   "id": "f0ee0fca-bfe3-43d7-a7a2-95d393276613",
   "metadata": {},
   "source": [
    "> While the recall for neutral and positive classes increases moderately compared to the previous Word2Vec-based models, the overall accuracy drops from 62% to 47%, and the F1-scores become less stable across classes.  \n",
    "> This indicates that SMOTE disrupts the embedding space learned by Word2Vec, leading to distorted feature distributions that hinder the classifier's ability to generalize.  \n",
    "> Unlike sparse representations such as BoW or TF-IDF, where oversampling simply duplicates count-based vectors, oversampling dense embeddings can break the semantic structure that Word2Vec encodes."
   ]
  },
  {
   "cell_type": "code",
   "execution_count": 96,
   "id": "096962c5-ac8b-4577-8d9c-b879dacb0a78",
   "metadata": {},
   "outputs": [],
   "source": [
    "add_result(\"Model 13\", \n",
    "           \"Word2Vec + SMOTE\",\n",
    "           y_test_2,\n",
    "           y_pred_W2V_b,\n",
    "           used_smote = True)"
   ]
  },
  {
   "cell_type": "markdown",
   "id": "9039f169-a93d-4409-8450-babc05ea14fc",
   "metadata": {
    "jp-MarkdownHeadingCollapsed": true
   },
   "source": [
    "##### **GLOVE**"
   ]
  },
  {
   "cell_type": "code",
   "execution_count": 97,
   "id": "364bb7e9-013c-41b8-9356-5180915ca45b",
   "metadata": {},
   "outputs": [
    {
     "name": "stdout",
     "output_type": "stream",
     "text": [
      "              precision    recall  f1-score   support\n",
      "\n",
      "    negative       0.79      0.89      0.84      1816\n",
      "     neutral       0.53      0.35      0.42       609\n",
      "    positive       0.69      0.68      0.68       456\n",
      "\n",
      "    accuracy                           0.74      2881\n",
      "   macro avg       0.67      0.64      0.65      2881\n",
      "weighted avg       0.72      0.74      0.72      2881\n",
      "\n"
     ]
    }
   ],
   "source": [
    "model.fit(X_train_glove_b, y_train_glove_b)\n",
    "y_pred_glove_b = model.predict(X_test_glove)\n",
    "print(classification_report(y_test_2, y_pred_glove_b))"
   ]
  },
  {
   "cell_type": "markdown",
   "id": "62185cf2-0e3d-48a0-bd43-9c172108a2a8",
   "metadata": {},
   "source": [
    "> When SMOTE is applied, the GloVe-based model maintains this high level of performance (accuracy 74%, macro F1 0.65), suggesting that GloVe embeddings are inherently robust to class imbalance.  \n",
    "> Unlike Word2Vec, SMOTE does not distort GloVe's global semantic space, and the model retains balanced precision-recall behavior across all sentiments."
   ]
  },
  {
   "cell_type": "code",
   "execution_count": 98,
   "id": "adba98a1-e948-4b2d-b1ec-349a2281d37c",
   "metadata": {},
   "outputs": [],
   "source": [
    "add_result(\"Model 14\", \n",
    "           \"GloVe + SMOTE\",\n",
    "           y_test_2,\n",
    "           y_pred_glove_b,\n",
    "           used_smote = True)"
   ]
  },
  {
   "cell_type": "markdown",
   "id": "48dcb947-2517-487c-b3ef-4213694d2dd8",
   "metadata": {
    "jp-MarkdownHeadingCollapsed": true
   },
   "source": [
    "##### **FASTTEXT**"
   ]
  },
  {
   "cell_type": "code",
   "execution_count": 99,
   "id": "84acacdc-8593-4b0a-92de-6c23fd7a5760",
   "metadata": {},
   "outputs": [
    {
     "name": "stdout",
     "output_type": "stream",
     "text": [
      "              precision    recall  f1-score   support\n",
      "\n",
      "    negative       0.79      0.86      0.82      1816\n",
      "     neutral       0.50      0.31      0.38       609\n",
      "    positive       0.61      0.73      0.66       456\n",
      "\n",
      "    accuracy                           0.72      2881\n",
      "   macro avg       0.63      0.63      0.62      2881\n",
      "weighted avg       0.70      0.72      0.70      2881\n",
      "\n"
     ]
    }
   ],
   "source": [
    "model.fit(X_train_ftext_b, y_train_ftext_b)\n",
    "y_pred_ftext_b = model.predict(X_test_FT)\n",
    "print(classification_report(y_test_2, y_pred_ftext_b))"
   ]
  },
  {
   "cell_type": "markdown",
   "id": "1fe1dc9a-c51e-43db-9efe-d8b612ef59be",
   "metadata": {},
   "source": [
    "> The FastText-based model with SMOTE maintains its overall stability (accuracy 72%, macro F1 0.69) but does not exhibit substantial enhancement.  \n",
    "> The positive class benefits the most from oversampling, while the neutral class remains challenging.  \n",
    "> These results indicate that FastText is resilient to imbalance but yields limited additional gains once the embeddings already encode subword-level semantics."
   ]
  },
  {
   "cell_type": "code",
   "execution_count": 100,
   "id": "1dc6975a-ff75-4a70-b657-7cb498df333d",
   "metadata": {},
   "outputs": [],
   "source": [
    "add_result(\"Model 15\", \n",
    "           \"FastText + SMOTE\",\n",
    "           y_test_2,\n",
    "           y_pred_ftext_b,\n",
    "           used_smote = True)"
   ]
  },
  {
   "cell_type": "markdown",
   "id": "31f21349-f4d4-43a4-9f2b-427f131c51ca",
   "metadata": {
    "jp-MarkdownHeadingCollapsed": true
   },
   "source": [
    "#### **FINE TUNING**"
   ]
  },
  {
   "cell_type": "code",
   "execution_count": 101,
   "id": "471bd0ea-330d-4a7e-a4b5-96ca539586cc",
   "metadata": {},
   "outputs": [],
   "source": [
    "hyparameters = {\n",
    "    \"n_estimators\": [100, 200],\n",
    "    \"max_depth\": [10, 20, 30],\n",
    "    \"min_samples_split\": [10, 20, 30],\n",
    "    \"random_state\": [42]\n",
    "}\n",
    "\n",
    "cv_strategy = StratifiedKFold(n_splits = 10, shuffle = True, random_state = 42)"
   ]
  },
  {
   "cell_type": "markdown",
   "id": "a79cd6c6-42d1-4c49-b7d5-b9689dffefee",
   "metadata": {
    "jp-MarkdownHeadingCollapsed": true
   },
   "source": [
    "##### **BOW**"
   ]
  },
  {
   "cell_type": "code",
   "execution_count": 105,
   "id": "e9909f1c-0488-4241-9b6a-2a6a175ac28d",
   "metadata": {},
   "outputs": [
    {
     "name": "stdout",
     "output_type": "stream",
     "text": [
      "Fitting 10 folds for each of 18 candidates, totalling 180 fits\n",
      "Best parameter :  {'max_depth': 10, 'min_samples_split': 10, 'n_estimators': 100, 'random_state': 42}\n",
      "Best score :  nan\n"
     ]
    }
   ],
   "source": [
    "grid_search = GridSearchCV(estimator = model, \n",
    "                           param_grid = hyparameters,\n",
    "                           scoring = \"f1\", \n",
    "                           cv = cv_strategy, \n",
    "                           n_jobs = -1, \n",
    "                           verbose = 2)\n",
    "\n",
    "grid_search.fit(X_train_BOW_b, y_train_BOW_b)\n",
    "\n",
    "print(\"Best parameter : \", grid_search.best_params_)\n",
    "print(\"Best score : \", grid_search.best_score_)"
   ]
  },
  {
   "cell_type": "code",
   "execution_count": 106,
   "id": "235ecb78-4c01-45e9-9148-e770d61ed0bf",
   "metadata": {},
   "outputs": [
    {
     "name": "stdout",
     "output_type": "stream",
     "text": [
      "              precision    recall  f1-score   support\n",
      "\n",
      "    negative       0.84      0.73      0.78      1816\n",
      "     neutral       0.43      0.60      0.50       609\n",
      "    positive       0.60      0.60      0.60       456\n",
      "\n",
      "    accuracy                           0.68      2881\n",
      "   macro avg       0.62      0.64      0.63      2881\n",
      "weighted avg       0.71      0.68      0.69      2881\n",
      "\n"
     ]
    }
   ],
   "source": [
    "ft_BOW_model = grid_search.best_estimator_\n",
    "ft_BOW_model.fit(X_train_BOW_b, y_train_BOW_b)\n",
    "y_pred_FT_BOW = ft_BOW_model.predict(X_test_BOW)\n",
    "print(classification_report(y_test_1, y_pred_FT_BOW))"
   ]
  },
  {
   "cell_type": "markdown",
   "id": "8bbf088c-fbcb-4a9b-890c-9b38789615e7",
   "metadata": {},
   "source": [
    "> After fine-tuning the BOW-based model on the SMOTE-balanced data, the overall performance remains identical to the baseline configuration.  \n",
    "> The accuracy (0.68) and macro F1-score (0.63) show no further improvement, indicating that the initial parameter setup was already optimal under the balanced condition.  "
   ]
  },
  {
   "cell_type": "code",
   "execution_count": 107,
   "id": "5e4da605-91dc-477a-9b7a-93e6c7d0807d",
   "metadata": {},
   "outputs": [],
   "source": [
    "add_result(\"Model 16\", \n",
    "           \"Bag of Words + SMOTE + Fine Tuning\",\n",
    "           y_test_1,\n",
    "           y_pred_FT_BOW,\n",
    "           used_smote = True)"
   ]
  },
  {
   "cell_type": "markdown",
   "id": "1c7ddfe8-1d9a-40bd-9a0f-dc5fa2837381",
   "metadata": {
    "jp-MarkdownHeadingCollapsed": true
   },
   "source": [
    "##### **TF-IDF**"
   ]
  },
  {
   "cell_type": "code",
   "execution_count": 108,
   "id": "5200565a-01ed-4147-95e7-e4730f1e3892",
   "metadata": {},
   "outputs": [
    {
     "name": "stdout",
     "output_type": "stream",
     "text": [
      "Fitting 10 folds for each of 18 candidates, totalling 180 fits\n",
      "Best parameter :  {'max_depth': 10, 'min_samples_split': 10, 'n_estimators': 100, 'random_state': 42}\n",
      "Best score :  nan\n"
     ]
    }
   ],
   "source": [
    "grid_search = GridSearchCV(estimator = model, \n",
    "                           param_grid = hyparameters,\n",
    "                           scoring = \"f1\", \n",
    "                           cv = cv_strategy, \n",
    "                           n_jobs = -1, \n",
    "                           verbose = 2)\n",
    "\n",
    "grid_search.fit(X_train_TFIDF_b, y_train_TFIDF_b)\n",
    "\n",
    "print(\"Best parameter : \", grid_search.best_params_)\n",
    "print(\"Best score : \", grid_search.best_score_)"
   ]
  },
  {
   "cell_type": "code",
   "execution_count": 109,
   "id": "2579e6cc-17be-4843-92e4-e4df8386f61e",
   "metadata": {},
   "outputs": [
    {
     "name": "stdout",
     "output_type": "stream",
     "text": [
      "              precision    recall  f1-score   support\n",
      "\n",
      "    negative       0.83      0.75      0.79      1816\n",
      "     neutral       0.45      0.57      0.50       609\n",
      "    positive       0.66      0.67      0.67       456\n",
      "\n",
      "    accuracy                           0.70      2881\n",
      "   macro avg       0.64      0.66      0.65      2881\n",
      "weighted avg       0.72      0.70      0.71      2881\n",
      "\n"
     ]
    }
   ],
   "source": [
    "ft_TFIDF_model = grid_search.best_estimator_\n",
    "ft_TFIDF_model.fit(X_train_TFIDF_b, y_train_TFIDF_b)\n",
    "y_pred_FT_TFIDF = ft_TFIDF_model.predict(X_test_TFIDF)\n",
    "print(classification_report(y_test_1, y_pred_FT_TFIDF))"
   ]
  },
  {
   "cell_type": "markdown",
   "id": "70e6c697-b49c-41df-92f3-4e2cfc408c22",
   "metadata": {},
   "source": [
    "> After fine-tuning the TF-IDF-based model on the SMOTE-balanced data, the performance also remains identical to the SMOTE baseline configuration.  \n",
    "> The accuracy (0.70) and macro F1-score (0.65) show no further improvement, indicating that the baseline parameter setup was already optimal once the class imbalance had been addressed."
   ]
  },
  {
   "cell_type": "code",
   "execution_count": 110,
   "id": "3cacdbe3-a32c-4587-8313-af282d6b7cf7",
   "metadata": {},
   "outputs": [],
   "source": [
    "add_result(\"Model 17\", \n",
    "           \"TFIDF + SMOTE + Fine Tuning\",\n",
    "           y_test_1,\n",
    "           y_pred_FT_TFIDF,\n",
    "           used_smote = True)"
   ]
  },
  {
   "cell_type": "markdown",
   "id": "b5c6a6e8-a602-4480-a56f-923e02e38eca",
   "metadata": {
    "jp-MarkdownHeadingCollapsed": true
   },
   "source": [
    "##### **WORD2VEC**"
   ]
  },
  {
   "cell_type": "code",
   "execution_count": 111,
   "id": "4260987d-c109-4b83-af04-ce27a0a1e4d9",
   "metadata": {},
   "outputs": [
    {
     "name": "stdout",
     "output_type": "stream",
     "text": [
      "Fitting 10 folds for each of 18 candidates, totalling 180 fits\n",
      "Best parameter :  {'max_depth': 10, 'min_samples_split': 10, 'n_estimators': 100, 'random_state': 42}\n",
      "Best score :  nan\n"
     ]
    }
   ],
   "source": [
    "grid_search = GridSearchCV(estimator = model, \n",
    "                           param_grid = hyparameters,\n",
    "                           scoring = \"f1\", \n",
    "                           cv = cv_strategy, \n",
    "                           n_jobs = -1, \n",
    "                           verbose = 2)\n",
    "\n",
    "grid_search.fit(X_train_W2V_b, y_train_W2V_b)\n",
    "\n",
    "print(\"Best parameter : \", grid_search.best_params_)\n",
    "print(\"Best score : \", grid_search.best_score_)"
   ]
  },
  {
   "cell_type": "code",
   "execution_count": 112,
   "id": "9813a6d0-8b9d-4dbd-97b0-34bffa12566e",
   "metadata": {},
   "outputs": [
    {
     "name": "stdout",
     "output_type": "stream",
     "text": [
      "              precision    recall  f1-score   support\n",
      "\n",
      "    negative       0.85      0.38      0.53      1816\n",
      "     neutral       0.33      0.64      0.43       609\n",
      "    positive       0.30      0.56      0.39       456\n",
      "\n",
      "    accuracy                           0.47      2881\n",
      "   macro avg       0.49      0.53      0.45      2881\n",
      "weighted avg       0.65      0.47      0.49      2881\n",
      "\n"
     ]
    }
   ],
   "source": [
    "ft_W2V_model = grid_search.best_estimator_\n",
    "ft_W2V_model.fit(X_train_W2V_b, y_train_W2V_b)\n",
    "y_pred_FT_W2V = ft_W2V_model.predict(X_test_W2V)\n",
    "print(classification_report(y_test_2, y_pred_FT_W2V))"
   ]
  },
  {
   "cell_type": "markdown",
   "id": "09a932eb-5a7f-46f3-9d77-e2e1a5cad725",
   "metadata": {},
   "source": [
    "> After fine-tuning the Word2Vec model on the SMOTE-balanced data, the performance remains completely unchanged.  \n",
    "> Both the accuracy (0.47) and macro F1-score (0.45) are identical to the SMOTE baseline, indicating that hyperparameter adjustments had no effect on improving generalization.  \n",
    "> This outcome confirms that the decline in performance originates from the incompatibility between SMOTE and dense Word2Vec embeddings, rather than from suboptimal parameter configurations."
   ]
  },
  {
   "cell_type": "code",
   "execution_count": 113,
   "id": "a7aca6e9-8ebd-430e-9dfd-b31b4cb5d410",
   "metadata": {},
   "outputs": [],
   "source": [
    "add_result(\"Model 18\", \n",
    "           \"Word2Vec + SMOTE + Fine Tuning\",\n",
    "           y_test_2,\n",
    "           y_pred_FT_W2V,\n",
    "           used_smote = True)"
   ]
  },
  {
   "cell_type": "markdown",
   "id": "81422da4-1ba1-4fbc-81cd-bedd44b454af",
   "metadata": {
    "jp-MarkdownHeadingCollapsed": true
   },
   "source": [
    "##### **GLOVE**"
   ]
  },
  {
   "cell_type": "code",
   "execution_count": 114,
   "id": "bc406bba-5187-4bcf-9a7e-af9fe2537ca1",
   "metadata": {},
   "outputs": [
    {
     "name": "stdout",
     "output_type": "stream",
     "text": [
      "Fitting 10 folds for each of 18 candidates, totalling 180 fits\n",
      "Best parameter :  {'max_depth': 10, 'min_samples_split': 10, 'n_estimators': 100, 'random_state': 42}\n",
      "Best score :  nan\n"
     ]
    }
   ],
   "source": [
    "grid_search = GridSearchCV(estimator = model, \n",
    "                           param_grid = hyparameters,\n",
    "                           scoring = \"f1\", \n",
    "                           cv = cv_strategy, \n",
    "                           n_jobs = -1, \n",
    "                           verbose = 2)\n",
    "\n",
    "grid_search.fit(X_train_glove_b, y_train_glove_b)\n",
    "\n",
    "print(\"Best parameter : \", grid_search.best_params_)\n",
    "print(\"Best score : \", grid_search.best_score_)"
   ]
  },
  {
   "cell_type": "code",
   "execution_count": 115,
   "id": "42c0e199-ff0f-4700-9b60-70a6b5f0bce2",
   "metadata": {},
   "outputs": [
    {
     "name": "stdout",
     "output_type": "stream",
     "text": [
      "              precision    recall  f1-score   support\n",
      "\n",
      "    negative       0.79      0.89      0.84      1816\n",
      "     neutral       0.53      0.35      0.42       609\n",
      "    positive       0.69      0.68      0.68       456\n",
      "\n",
      "    accuracy                           0.74      2881\n",
      "   macro avg       0.67      0.64      0.65      2881\n",
      "weighted avg       0.72      0.74      0.72      2881\n",
      "\n"
     ]
    }
   ],
   "source": [
    "ft_glove_model = grid_search.best_estimator_\n",
    "ft_glove_model.fit(X_train_glove_b, y_train_glove_b)\n",
    "y_pred_FT_glove = ft_glove_model.predict(X_test_glove)\n",
    "print(classification_report(y_test_2, y_pred_FT_glove))"
   ]
  },
  {
   "cell_type": "markdown",
   "id": "747e6471-0980-42ff-bffd-2a45c4b7a530",
   "metadata": {},
   "source": [
    "> After fine-tuning the GloVe-based model on the SMOTE-balanced data, the performance remains the same as the baseline.  \n",
    "> The accuracy (0.74) and macro F1-score (0.65) show no further improvement, which means the baseline configuration was already optimal once the data imbalance was handled."
   ]
  },
  {
   "cell_type": "code",
   "execution_count": 116,
   "id": "54508095-797a-4b82-9c29-b02437901f5f",
   "metadata": {},
   "outputs": [],
   "source": [
    "add_result(\"Model 19\", \n",
    "           \"GloVe + SMOTE + Fine Tuning\",\n",
    "           y_test_2,\n",
    "           y_pred_FT_glove,\n",
    "           used_smote = True)"
   ]
  },
  {
   "cell_type": "markdown",
   "id": "1f6eeda7-d3fa-4fbd-a35c-5b5250460696",
   "metadata": {
    "jp-MarkdownHeadingCollapsed": true
   },
   "source": [
    "##### **FASTTEXT**"
   ]
  },
  {
   "cell_type": "code",
   "execution_count": 117,
   "id": "d40bbf1b-3203-4a0b-9e2c-13e6b46ddbf9",
   "metadata": {},
   "outputs": [
    {
     "name": "stdout",
     "output_type": "stream",
     "text": [
      "Fitting 10 folds for each of 18 candidates, totalling 180 fits\n",
      "Best parameter :  {'max_depth': 10, 'min_samples_split': 10, 'n_estimators': 100, 'random_state': 42}\n",
      "Best score :  nan\n"
     ]
    }
   ],
   "source": [
    "grid_search = GridSearchCV(estimator = model, \n",
    "                           param_grid = hyparameters,\n",
    "                           scoring = \"f1\", \n",
    "                           cv = cv_strategy, \n",
    "                           n_jobs = -1, \n",
    "                           verbose = 2)\n",
    "\n",
    "grid_search.fit(X_train_ftext_b, y_train_ftext_b)\n",
    "\n",
    "print(\"Best parameter : \", grid_search.best_params_)\n",
    "print(\"Best score : \", grid_search.best_score_)"
   ]
  },
  {
   "cell_type": "code",
   "execution_count": 118,
   "id": "73da4f4e-91fd-4a0f-885c-6472dea06952",
   "metadata": {},
   "outputs": [
    {
     "name": "stdout",
     "output_type": "stream",
     "text": [
      "              precision    recall  f1-score   support\n",
      "\n",
      "    negative       0.79      0.86      0.82      1816\n",
      "     neutral       0.50      0.31      0.38       609\n",
      "    positive       0.61      0.73      0.66       456\n",
      "\n",
      "    accuracy                           0.72      2881\n",
      "   macro avg       0.63      0.63      0.62      2881\n",
      "weighted avg       0.70      0.72      0.70      2881\n",
      "\n"
     ]
    }
   ],
   "source": [
    "ft_ftext_model = grid_search.best_estimator_\n",
    "ft_ftext_model.fit(X_train_ftext_b, y_train_ftext_b)\n",
    "y_pred_FT_ftext = ft_ftext_model.predict(X_test_FT)\n",
    "print(classification_report(y_test_2, y_pred_FT_ftext))"
   ]
  },
  {
   "cell_type": "markdown",
   "id": "a87941ea-987b-483f-bf7d-393a4556f6c3",
   "metadata": {},
   "source": [
    "> After fine-tuning the FastText-based model on the SMOTE-balanced data, the results remain unchanged from the baseline configuration. The accuracy (0.72) and macro F1-score (0.62) show no further improvement, indicating that the baseline setup was already optimal once the data was balanced. "
   ]
  },
  {
   "cell_type": "code",
   "execution_count": 119,
   "id": "f8afa664-ba35-4c66-8b9f-c00fee7d7df7",
   "metadata": {},
   "outputs": [],
   "source": [
    "add_result(\"Model 20\", \n",
    "           \"FastText + SMOTE + Fine Tuning\",\n",
    "           y_test_2,\n",
    "           y_pred_FT_ftext,\n",
    "           used_smote = True)"
   ]
  },
  {
   "cell_type": "markdown",
   "id": "dbeef3d6-6e89-4ba8-b75e-a6b08f8b56db",
   "metadata": {
    "jp-MarkdownHeadingCollapsed": true
   },
   "source": [
    "### **FINAL EVALUATION**"
   ]
  },
  {
   "cell_type": "code",
   "execution_count": 122,
   "id": "e2eade54-6349-4436-a46b-222bdfb4ada8",
   "metadata": {},
   "outputs": [
    {
     "data": {
      "text/html": [
       "<div>\n",
       "<style scoped>\n",
       "    .dataframe tbody tr th:only-of-type {\n",
       "        vertical-align: middle;\n",
       "    }\n",
       "\n",
       "    .dataframe tbody tr th {\n",
       "        vertical-align: top;\n",
       "    }\n",
       "\n",
       "    .dataframe thead th {\n",
       "        text-align: right;\n",
       "    }\n",
       "</style>\n",
       "<table border=\"1\" class=\"dataframe\">\n",
       "  <thead>\n",
       "    <tr style=\"text-align: right;\">\n",
       "      <th></th>\n",
       "      <th>Model</th>\n",
       "      <th>Description</th>\n",
       "      <th>Average Type</th>\n",
       "      <th>Accuracy</th>\n",
       "      <th>Precision</th>\n",
       "      <th>Recall</th>\n",
       "      <th>F1 Score</th>\n",
       "      <th>F1 Negative</th>\n",
       "      <th>F1 Neutral</th>\n",
       "      <th>F1 Positive</th>\n",
       "    </tr>\n",
       "  </thead>\n",
       "  <tbody>\n",
       "    <tr>\n",
       "      <th>8</th>\n",
       "      <td>Model 9</td>\n",
       "      <td>GloVe + Fine Tuning</td>\n",
       "      <td>weighted</td>\n",
       "      <td>0.741409</td>\n",
       "      <td>0.735769</td>\n",
       "      <td>0.741409</td>\n",
       "      <td>0.737049</td>\n",
       "      <td>0.837520</td>\n",
       "      <td>0.508816</td>\n",
       "      <td>0.641737</td>\n",
       "    </tr>\n",
       "    <tr>\n",
       "      <th>9</th>\n",
       "      <td>Model 10</td>\n",
       "      <td>FastText + Fine Tuning</td>\n",
       "      <td>weighted</td>\n",
       "      <td>0.712947</td>\n",
       "      <td>0.705577</td>\n",
       "      <td>0.712947</td>\n",
       "      <td>0.708190</td>\n",
       "      <td>0.815092</td>\n",
       "      <td>0.455782</td>\n",
       "      <td>0.619552</td>\n",
       "    </tr>\n",
       "    <tr>\n",
       "      <th>3</th>\n",
       "      <td>Model 4</td>\n",
       "      <td>GloVe</td>\n",
       "      <td>weighted</td>\n",
       "      <td>0.725095</td>\n",
       "      <td>0.706944</td>\n",
       "      <td>0.725095</td>\n",
       "      <td>0.692416</td>\n",
       "      <td>0.831553</td>\n",
       "      <td>0.386813</td>\n",
       "      <td>0.546448</td>\n",
       "    </tr>\n",
       "    <tr>\n",
       "      <th>4</th>\n",
       "      <td>Model 5</td>\n",
       "      <td>FastText</td>\n",
       "      <td>weighted</td>\n",
       "      <td>0.717459</td>\n",
       "      <td>0.694933</td>\n",
       "      <td>0.717459</td>\n",
       "      <td>0.684659</td>\n",
       "      <td>0.825706</td>\n",
       "      <td>0.353458</td>\n",
       "      <td>0.565276</td>\n",
       "    </tr>\n",
       "    <tr>\n",
       "      <th>11</th>\n",
       "      <td>Model 12</td>\n",
       "      <td>TFIDF + SMOTE</td>\n",
       "      <td>macro</td>\n",
       "      <td>0.698022</td>\n",
       "      <td>0.644560</td>\n",
       "      <td>0.663790</td>\n",
       "      <td>0.650975</td>\n",
       "      <td>0.785177</td>\n",
       "      <td>0.502527</td>\n",
       "      <td>0.665222</td>\n",
       "    </tr>\n",
       "  </tbody>\n",
       "</table>\n",
       "</div>"
      ],
      "text/plain": [
       "       Model             Description Average Type  Accuracy  Precision  \\\n",
       "8    Model 9     GloVe + Fine Tuning     weighted  0.741409   0.735769   \n",
       "9   Model 10  FastText + Fine Tuning     weighted  0.712947   0.705577   \n",
       "3    Model 4                   GloVe     weighted  0.725095   0.706944   \n",
       "4    Model 5                FastText     weighted  0.717459   0.694933   \n",
       "11  Model 12           TFIDF + SMOTE        macro  0.698022   0.644560   \n",
       "\n",
       "      Recall  F1 Score  F1 Negative  F1 Neutral  F1 Positive  \n",
       "8   0.741409  0.737049     0.837520    0.508816     0.641737  \n",
       "9   0.712947  0.708190     0.815092    0.455782     0.619552  \n",
       "3   0.725095  0.692416     0.831553    0.386813     0.546448  \n",
       "4   0.717459  0.684659     0.825706    0.353458     0.565276  \n",
       "11  0.663790  0.650975     0.785177    0.502527     0.665222  "
      ]
     },
     "execution_count": 122,
     "metadata": {},
     "output_type": "execute_result"
    }
   ],
   "source": [
    "results_df.sort_values(by = \"F1 Score\", ascending = False).head()"
   ]
  },
  {
   "cell_type": "code",
   "execution_count": 123,
   "id": "8f0b6757-6c97-42b0-935f-4af7c2882caa",
   "metadata": {},
   "outputs": [
    {
     "data": {
      "text/html": [
       "<div>\n",
       "<style scoped>\n",
       "    .dataframe tbody tr th:only-of-type {\n",
       "        vertical-align: middle;\n",
       "    }\n",
       "\n",
       "    .dataframe tbody tr th {\n",
       "        vertical-align: top;\n",
       "    }\n",
       "\n",
       "    .dataframe thead th {\n",
       "        text-align: right;\n",
       "    }\n",
       "</style>\n",
       "<table border=\"1\" class=\"dataframe\">\n",
       "  <thead>\n",
       "    <tr style=\"text-align: right;\">\n",
       "      <th></th>\n",
       "      <th>Model</th>\n",
       "      <th>Description</th>\n",
       "      <th>Average Type</th>\n",
       "      <th>Accuracy</th>\n",
       "      <th>Precision</th>\n",
       "      <th>Recall</th>\n",
       "      <th>F1 Score</th>\n",
       "      <th>F1 Negative</th>\n",
       "      <th>F1 Neutral</th>\n",
       "      <th>F1 Positive</th>\n",
       "    </tr>\n",
       "  </thead>\n",
       "  <tbody>\n",
       "    <tr>\n",
       "      <th>8</th>\n",
       "      <td>Model 9</td>\n",
       "      <td>GloVe + Fine Tuning</td>\n",
       "      <td>weighted</td>\n",
       "      <td>0.741409</td>\n",
       "      <td>0.735769</td>\n",
       "      <td>0.741409</td>\n",
       "      <td>0.737049</td>\n",
       "      <td>0.837520</td>\n",
       "      <td>0.508816</td>\n",
       "      <td>0.641737</td>\n",
       "    </tr>\n",
       "    <tr>\n",
       "      <th>18</th>\n",
       "      <td>Model 19</td>\n",
       "      <td>GloVe + SMOTE + Fine Tuning</td>\n",
       "      <td>macro</td>\n",
       "      <td>0.739674</td>\n",
       "      <td>0.672040</td>\n",
       "      <td>0.636524</td>\n",
       "      <td>0.646629</td>\n",
       "      <td>0.835883</td>\n",
       "      <td>0.420319</td>\n",
       "      <td>0.683685</td>\n",
       "    </tr>\n",
       "    <tr>\n",
       "      <th>13</th>\n",
       "      <td>Model 14</td>\n",
       "      <td>GloVe + SMOTE</td>\n",
       "      <td>macro</td>\n",
       "      <td>0.739674</td>\n",
       "      <td>0.672040</td>\n",
       "      <td>0.636524</td>\n",
       "      <td>0.646629</td>\n",
       "      <td>0.835883</td>\n",
       "      <td>0.420319</td>\n",
       "      <td>0.683685</td>\n",
       "    </tr>\n",
       "    <tr>\n",
       "      <th>3</th>\n",
       "      <td>Model 4</td>\n",
       "      <td>GloVe</td>\n",
       "      <td>weighted</td>\n",
       "      <td>0.725095</td>\n",
       "      <td>0.706944</td>\n",
       "      <td>0.725095</td>\n",
       "      <td>0.692416</td>\n",
       "      <td>0.831553</td>\n",
       "      <td>0.386813</td>\n",
       "      <td>0.546448</td>\n",
       "    </tr>\n",
       "    <tr>\n",
       "      <th>19</th>\n",
       "      <td>Model 20</td>\n",
       "      <td>FastText + SMOTE + Fine Tuning</td>\n",
       "      <td>macro</td>\n",
       "      <td>0.719195</td>\n",
       "      <td>0.633714</td>\n",
       "      <td>0.629555</td>\n",
       "      <td>0.622120</td>\n",
       "      <td>0.822005</td>\n",
       "      <td>0.379695</td>\n",
       "      <td>0.664659</td>\n",
       "    </tr>\n",
       "  </tbody>\n",
       "</table>\n",
       "</div>"
      ],
      "text/plain": [
       "       Model                     Description Average Type  Accuracy  \\\n",
       "8    Model 9             GloVe + Fine Tuning     weighted  0.741409   \n",
       "18  Model 19     GloVe + SMOTE + Fine Tuning        macro  0.739674   \n",
       "13  Model 14                   GloVe + SMOTE        macro  0.739674   \n",
       "3    Model 4                           GloVe     weighted  0.725095   \n",
       "19  Model 20  FastText + SMOTE + Fine Tuning        macro  0.719195   \n",
       "\n",
       "    Precision    Recall  F1 Score  F1 Negative  F1 Neutral  F1 Positive  \n",
       "8    0.735769  0.741409  0.737049     0.837520    0.508816     0.641737  \n",
       "18   0.672040  0.636524  0.646629     0.835883    0.420319     0.683685  \n",
       "13   0.672040  0.636524  0.646629     0.835883    0.420319     0.683685  \n",
       "3    0.706944  0.725095  0.692416     0.831553    0.386813     0.546448  \n",
       "19   0.633714  0.629555  0.622120     0.822005    0.379695     0.664659  "
      ]
     },
     "execution_count": 123,
     "metadata": {},
     "output_type": "execute_result"
    }
   ],
   "source": [
    "results_df.sort_values(by = \"Accuracy\", ascending = False).head()"
   ]
  },
  {
   "cell_type": "markdown",
   "id": "e18a6353-4fb3-445d-9049-4a7f60d7eae2",
   "metadata": {
    "jp-MarkdownHeadingCollapsed": true
   },
   "source": [
    "#### **BEST MODEL**"
   ]
  },
  {
   "cell_type": "code",
   "execution_count": 124,
   "id": "3ef97d23-eaea-45d8-88fe-647a62999dd2",
   "metadata": {},
   "outputs": [
    {
     "name": "stdout",
     "output_type": "stream",
     "text": [
      "              precision    recall  f1-score   support\n",
      "\n",
      "    negative       0.81      0.86      0.84      1816\n",
      "     neutral       0.52      0.50      0.51       609\n",
      "    positive       0.71      0.58      0.64       456\n",
      "\n",
      "    accuracy                           0.74      2881\n",
      "   macro avg       0.68      0.65      0.66      2881\n",
      "weighted avg       0.74      0.74      0.74      2881\n",
      "\n"
     ]
    }
   ],
   "source": [
    "best_model = RandomForestClassifier(n_estimators = 200, max_depth = 30, min_samples_split = 10, random_state = 42)\n",
    "best_model.fit(X_train_glove, y_train_2)\n",
    "y_pred_glove = best_model.predict(X_test_glove)\n",
    "print(classification_report(y_test_2, y_pred_glove))"
   ]
  },
  {
   "cell_type": "code",
   "execution_count": 127,
   "id": "981ab1e1-1f86-400e-94df-83205cabd0be",
   "metadata": {},
   "outputs": [
    {
     "data": {
      "image/png": "[encoded data removed]",
      "text/plain": [
       "<Figure size 640x480 with 2 Axes>"
      ]
     },
     "metadata": {},
     "output_type": "display_data"
    }
   ],
   "source": [
    "cm = confusion_matrix(y_test_2, y_pred_glove, labels = best_model.classes_)\n",
    "disp = ConfusionMatrixDisplay(confusion_matrix = cm, display_labels = best_model.classes_)\n",
    "disp.plot(cmap = 'Greens', values_format = 'd')\n",
    "\n",
    "plt.title(\"Confusion Matrix - GloVe (Fine-Tuned Best Model)\")\n",
    "plt.show()"
   ]
  },
  {
   "cell_type": "markdown",
   "id": "8580f67b-6f51-47b7-b576-f4451d85470c",
   "metadata": {
    "jp-MarkdownHeadingCollapsed": true
   },
   "source": [
    "#### **SUMMARY**"
   ]
  },
  {
   "cell_type": "markdown",
   "id": "529fbae4-6744-493d-924d-de1a7e7fc6ca",
   "metadata": {},
   "source": [
    "> Based on both accuracy and F1-score, the best-performing model is Model 9 (GloVe with fine-tuning, without SMOTE), achieving 74% accuracy and a macro F1 of 0.73.  \n",
    "> This strong performance is likely due to the use of a pretrained GloVe model trained on Twitter data, which aligns well with the linguistic style and structure of the dataset, also composed of tweets.  \n",
    "> Another observation is that while SMOTE generally helps other models by balancing class representation, GloVe performs well even without it.  \n",
    "> This suggests that GloVe’s global co-occurrence embeddings already capture the underlying relationships between words across classes, reducing the need for additional balancing.  \n",
    "> However, for other representations such as BOW or TF-IDF, SMOTE remains beneficial to improve model fairness and recall for minority sentiments."
   ]
  }
 ],
 "metadata": {
  "kernelspec": {
   "display_name": "Python (text mining)",
   "language": "python",
   "name": "textmining"
  },
  "language_info": {
   "codemirror_mode": {
    "name": "ipython",
    "version": 3
   },
   "file_extension": ".py",
   "mimetype": "text/x-python",
   "name": "python",
   "nbconvert_exporter": "python",
   "pygments_lexer": "ipython3",
   "version": "3.11.13"
  }
 },
 "nbformat": 4,
 "nbformat_minor": 5
}
